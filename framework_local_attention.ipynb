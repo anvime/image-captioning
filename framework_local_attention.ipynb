{
 "cells": [
  {
   "cell_type": "code",
   "execution_count": 1,
   "metadata": {},
   "outputs": [],
   "source": [
    "#### Rama projektowa - Opisywanie obrazów z wykorzystaniem głębokiego uczenia\n",
    "#### autorzy: Anna Konieczna, Mateusz Ostrowski"
   ]
  },
  {
   "cell_type": "markdown",
   "metadata": {},
   "source": [
    "### Rama projektowa\n",
    "Tutorial: https://towardsdatascience.com/image-captioning-with-keras-teaching-computers-to-describe-pictures-c88a46a311b8 <br>\n",
    "Zbiór danych: <br>\n",
    "### Model atencji lokalnej\n",
    "Tutorial: https://www.analyticsvidhya.com/blog/2020/11/attention-mechanism-for-caption-generation/\n",
    "#### Opis:  <br>\n"
   ]
  },
  {
   "cell_type": "code",
   "execution_count": 2,
   "metadata": {},
   "outputs": [],
   "source": [
    "#### Config\n",
    "config = { \"images_path\": \"../Flickr8k_Dataset/\",\n",
    "           \"train_images_path\": \"../Flickr8k_text/Flickr_8k.trainImages.txt\", # file conatains the names of images to be used in train data\n",
    "           \"test_images_path\": \"../Flickr8k_text/Flickr_8k.testImages.txt\",\n",
    "           \"train_path\": \"../Flickr8k_text/Flickr_8k.trainImages.txt\", \n",
    "           \"token_path\": \"../Flickr8k_text/Flickr8k.token.txt\",\n",
    "           \"word_embedings_path\": \"../glove/glove.6B.200d.txt\",\n",
    "           \"embedings_dim\": 200, # Polish - 100\n",
    "           \"train_model\": False, # True if you intend to train the model\n",
    "           \"encode_images\": False,\n",
    "           \"pretrained_model_path\": \"\",\n",
    "           \"encoded_images_test\": \"../Pickle/encoded_test_images.pkl\",\n",
    "           \"encoded_images_train\": \"../Pickle/encoded_train_images.pkl\",\n",
    "           \"report_path\": \"\",\n",
    "           \"preprocessed_descriptions_save_path\": \"descriptions.txt\",\n",
    "           \"use_lemma\": False,\n",
    "           \"spacy_lemma_model\": \"pl_spacy_model\",\n",
    "           \"lstm_model_save_dir\": \"../model_weights/\",\n",
    "           \"lstm_model_save_path\": \"../model_weights/model_30.h5\"}"
   ]
  },
  {
   "cell_type": "code",
   "execution_count": 3,
   "metadata": {},
   "outputs": [
    {
     "name": "stderr",
     "output_type": "stream",
     "text": [
      "Using TensorFlow backend.\n"
     ]
    }
   ],
   "source": [
    "import numpy as np\n",
    "from numpy import array\n",
    "import pandas as pd\n",
    "import matplotlib.pyplot as plt\n",
    "%matplotlib inline\n",
    "import string\n",
    "import os\n",
    "from PIL import Image\n",
    "import glob\n",
    "from pickle import dump, load\n",
    "from time import time\n",
    "from keras.preprocessing import sequence\n",
    "from keras.models import Sequential\n",
    "from keras.layers import LSTM, Embedding, TimeDistributed, Dense, RepeatVector,\\\n",
    "                         Activation, Flatten, Reshape, concatenate, Dropout, BatchNormalization\n",
    "from keras.optimizers import Adam, RMSprop\n",
    "from keras.layers.wrappers import Bidirectional\n",
    "from keras.layers.merge import add\n",
    "#from keras.applications.inception_v3 import InceptionV3\n",
    "from keras.preprocessing import image\n",
    "from keras.models import Model\n",
    "from keras import Input, layers\n",
    "from keras import optimizers\n",
    "#from keras.applications.inception_v3 import preprocess_input\n",
    "from keras.preprocessing.text import Tokenizer\n",
    "from keras.preprocessing.sequence import pad_sequences\n",
    "from keras.utils import to_categorical\n",
    "from nltk.translate.meteor_score import meteor_score\n",
    "from nltk.translate.bleu_score import sentence_bleu, corpus_bleu\n",
    "\n",
    "#additionall imports\n",
    "import pickle\n",
    "from collections import Counter\n",
    "from pandas.core.common import flatten\n",
    "\n",
    "import sys, time, warnings\n",
    "warnings.filterwarnings(\"ignore\")\n",
    "import re\n",
    "\n",
    "import keras\n",
    "import tensorflow as tf\n",
    "from tqdm import tqdm\n",
    "\n",
    "from keras.utils import plot_model\n",
    "\n",
    "from keras.callbacks import ModelCheckpoint\n",
    "from keras.preprocessing.image import load_img, img_to_array\n",
    "from keras.applications.vgg16 import VGG16, preprocess_input\n",
    "\n",
    "from sklearn.model_selection import train_test_split\n",
    "from sklearn.utils import shuffle"
   ]
  },
  {
   "cell_type": "code",
   "execution_count": 4,
   "metadata": {},
   "outputs": [
    {
     "name": "stdout",
     "output_type": "stream",
     "text": [
      "1000268201_693b08cb0e.jpg#0\tA child in a pink dress is climbing up a set of stairs in an entry way .\n",
      "1000268201_693b08cb0e.jpg#1\tA girl going into a wooden building .\n",
      "1000268201_693b08cb0e.jpg#2\tA little girl climbing into a wooden playhouse .\n",
      "1000268201_693b08cb0e.jpg#3\tA little girl climbing the s\n"
     ]
    }
   ],
   "source": [
    "# Load the description set\n",
    "\n",
    "def load_doc(filename):\n",
    "\tfile = open(filename, 'r')\n",
    "\ttext = file.read()\n",
    "\tfile.close()\n",
    "\treturn text\n",
    "\n",
    "filename = config[\"token_path\"]\n",
    "# załaduj opisy\n",
    "doc = load_doc(filename)\n",
    "print(doc[:300])"
   ]
  },
  {
   "cell_type": "code",
   "execution_count": 5,
   "metadata": {},
   "outputs": [
    {
     "name": "stdout",
     "output_type": "stream",
     "text": [
      "Loaded: 8092 \n"
     ]
    }
   ],
   "source": [
    "# Load the descriptions to dict structure\n",
    "\n",
    "def load_descriptions(doc):\n",
    "\tmapping = dict()\n",
    "\tfor line in doc.split('\\n'):\n",
    "\t\ttokens = line.split()\n",
    "\t\tif len(line) < 2:\n",
    "\t\t\tcontinue\n",
    "\t\t# take the first token as the image id, the rest as the description\n",
    "\t\timage_id, image_desc = tokens[0], tokens[1:]\n",
    "\t\t# extract filename from image id\n",
    "\t\timage_id = image_id.split('.')[0]\n",
    "\t\t# convert description tokens back to string\n",
    "\t\timage_desc = ' '.join(image_desc)\n",
    "\t\t# create the list if needed\n",
    "\t\tif image_id not in mapping:\n",
    "\t\t\tmapping[image_id] = list()\n",
    "\t\t# store description\n",
    "\t\tmapping[image_id].append(image_desc)\n",
    "\treturn mapping\n",
    "\n",
    "# parse descriptions\n",
    "descriptions = load_descriptions(doc)\n",
    "print('Loaded: %d ' % len(descriptions))"
   ]
  },
  {
   "cell_type": "code",
   "execution_count": 6,
   "metadata": {},
   "outputs": [],
   "source": [
    "if config[\"use_lemma\"]:\n",
    "    import spacy\n",
    "    nlp = spacy.load('pl_spacy_model')\n",
    "\n",
    "def clean_descriptions(descriptions):\n",
    "  # prepare translation table for removing punctuation\n",
    "  table = str.maketrans('', '', string.punctuation)\n",
    "  for key, desc_list in descriptions.items():\n",
    "    for i in range(len(desc_list)):\n",
    "      desc = desc_list[i]\n",
    "      if config[\"use_lemma\"]:\n",
    "          doc = nlp(desc)\n",
    "      # tokenize\n",
    "      desc = desc.split()\n",
    "      # convert to lower case\n",
    "      desc = [word.lower() for word in desc]\n",
    "# Lematyzacja\n",
    "#### spacy model from here: http://zil.ipipan.waw.pl/SpacyPL?action=AttachFile&do=view&target=pl_spacy_model-0.1.0.tar.gz\n",
    "#### spacy dokumentacja - https://spacy.io/usage\n",
    "      if config[\"use_lemma\"]:\n",
    "          desc = [word.lemma_ for word in doc]\n",
    "      # remove punctuation from each token\n",
    "      desc = [w.translate(table) for w in desc]\n",
    "      # remove tokens with numbers in them\n",
    "      desc = [word for word in desc if word.isalpha()]\n",
    "      # store as string\n",
    "      desc_list[i] =  ' '.join(desc)\n",
    "\n",
    "# clean descriptions\n",
    "clean_descriptions(descriptions)"
   ]
  },
  {
   "cell_type": "code",
   "execution_count": 7,
   "metadata": {},
   "outputs": [
    {
     "name": "stdout",
     "output_type": "stream",
     "text": [
      "Original Vocabulary Size: 8775\n"
     ]
    }
   ],
   "source": [
    "# convert the loaded descriptions into a vocabulary of words\n",
    "def to_vocabulary(descriptions):\n",
    "\t# build a list of all description strings\n",
    "\tall_desc = set()\n",
    "\tfor key in descriptions.keys():\n",
    "\t\t[all_desc.update(d.split()) for d in descriptions[key]]\n",
    "\treturn all_desc\n",
    "\n",
    "# summarize vocabulary\n",
    "vocabulary = to_vocabulary(descriptions)\n",
    "print('Original Vocabulary Size: %d' % len(vocabulary))"
   ]
  },
  {
   "cell_type": "code",
   "execution_count": 8,
   "metadata": {},
   "outputs": [],
   "source": [
    "# save descriptions to file, one per line\n",
    "def save_descriptions(descriptions, filename):\n",
    "\tlines = list()\n",
    "\tfor key, desc_list in descriptions.items():\n",
    "\t\tfor desc in desc_list:\n",
    "\t\t\tlines.append(key + ' ' + desc)\n",
    "\tdata = '\\n'.join(lines)\n",
    "\tfile = open(filename, 'w')\n",
    "\tfile.write(data)\n",
    "\tfile.close()\n",
    "\n",
    "save_descriptions(descriptions, config[\"preprocessed_descriptions_save_path\"])"
   ]
  },
  {
   "cell_type": "code",
   "execution_count": 9,
   "metadata": {},
   "outputs": [
    {
     "name": "stdout",
     "output_type": "stream",
     "text": [
      "Train Dataset: 6000\n",
      "Test Dataset: 1000\n"
     ]
    }
   ],
   "source": [
    "# load a pre-defined list of photo identifiers\n",
    "def load_set(filename):\n",
    "\tdoc = load_doc(filename)\n",
    "\tdataset = list()\n",
    "\t# process line by line\n",
    "\tfor line in doc.split('\\n'):\n",
    "\t\t# skip empty lines\n",
    "\t\tif len(line) < 1:\n",
    "\t\t\tcontinue\n",
    "\t\t# get the image identifier\n",
    "\t\tidentifier = line.split('.')[0]\n",
    "\t\tdataset.append(identifier)\n",
    "\treturn set(dataset)\n",
    "\n",
    "# load training dataset (6K)\n",
    "filename = config[\"train_path\"]\n",
    "train = load_set(filename)\n",
    "print('Train Dataset: %d' % len(train))\n",
    "\n",
    "#load test dataset (1K)\n",
    "filename = config[\"test_images_path\"]\n",
    "test = load_set(filename)\n",
    "print('Test Dataset: %d' % len(test))"
   ]
  },
  {
   "cell_type": "code",
   "execution_count": 10,
   "metadata": {},
   "outputs": [],
   "source": [
    "# Below path contains all the images\n",
    "images = config[\"images_path\"]\n",
    "# Create a list of all image names in the directory\n",
    "img = glob.glob(images + '*.jpg')"
   ]
  },
  {
   "cell_type": "code",
   "execution_count": 11,
   "metadata": {},
   "outputs": [],
   "source": [
    "# Read the train image names in a set\n",
    "train_images = set(open(config[\"train_images_path\"], 'r').read().strip().split('\\n'))\n",
    "\n",
    "# Create a list of all the training images with their full path names\n",
    "train_img = []\n",
    "\n",
    "for i in img: # img is list of full path names of all images\n",
    "    if i[len(images):] in train_images: # Check if the image belongs to training set\n",
    "        train_img.append(i) # Add it to the list of train images"
   ]
  },
  {
   "cell_type": "code",
   "execution_count": 12,
   "metadata": {},
   "outputs": [
    {
     "name": "stdout",
     "output_type": "stream",
     "text": [
      "Test images: 1000\n"
     ]
    }
   ],
   "source": [
    "# Below file conatains the names of images to be used in test data\n",
    "test_images_file = config[\"test_images_path\"]\n",
    "# Read the validation image names in a set# Read the test image names in a set\n",
    "test_images = set(open(test_images_file, 'r').read().strip().split('\\n'))\n",
    "\n",
    "# Create a list of all the test images with their full path names\n",
    "test_img = []\n",
    "\n",
    "for i in img: # img is list of full path names of all images\n",
    "    if i[len(images):] in test_images: # Check if the image belongs to test set\n",
    "        test_img.append(i) # Add it to the list of test images\n",
    "print('Test images: %d' % len(test_img))"
   ]
  },
  {
   "cell_type": "code",
   "execution_count": 13,
   "metadata": {},
   "outputs": [
    {
     "name": "stdout",
     "output_type": "stream",
     "text": [
      "Descriptions: train=6000\n"
     ]
    }
   ],
   "source": [
    "# load clean descriptions into memory\n",
    "def load_clean_descriptions(filename, dataset):\n",
    "\t# load document\n",
    "\tdoc = load_doc(filename)\n",
    "\tdescriptions = dict()\n",
    "\tfor line in doc.split('\\n'):\n",
    "\t\t# split line by white space\n",
    "\t\ttokens = line.split()\n",
    "\t\t# split id from description\n",
    "\t\timage_id, image_desc = tokens[0], tokens[1:]\n",
    "\t\t# skip images not in the set\n",
    "\t\tif image_id in dataset:\n",
    "\t\t\t# create list\n",
    "\t\t\tif image_id not in descriptions:\n",
    "\t\t\t\tdescriptions[image_id] = list()\n",
    "\t\t\t# wrap description in tokens\n",
    "\t\t\tdesc = 'startseq ' + ' '.join(image_desc) + ' endseq'\n",
    "\t\t\t# store\n",
    "\t\t\tdescriptions[image_id].append(desc)\n",
    "\treturn descriptions\n",
    "\n",
    "# descriptions\n",
    "train_descriptions = load_clean_descriptions(config[\"preprocessed_descriptions_save_path\"], train)\n",
    "test_descriptions = load_clean_descriptions(config[\"preprocessed_descriptions_save_path\"], test)\n",
    "print('Descriptions: train=%d' % len(train_descriptions))"
   ]
  },
  {
   "cell_type": "code",
   "execution_count": 14,
   "metadata": {},
   "outputs": [],
   "source": [
    "### start of local attention"
   ]
  },
  {
   "cell_type": "code",
   "execution_count": 15,
   "metadata": {},
   "outputs": [
    {
     "name": "stdout",
     "output_type": "stream",
     "text": [
      "Model: \"model\"\n",
      "_________________________________________________________________\n",
      "Layer (type)                 Output Shape              Param #   \n",
      "=================================================================\n",
      "input_1 (InputLayer)         [(None, None, None, 3)]   0         \n",
      "_________________________________________________________________\n",
      "block1_conv1 (Conv2D)        (None, None, None, 64)    1792      \n",
      "_________________________________________________________________\n",
      "block1_conv2 (Conv2D)        (None, None, None, 64)    36928     \n",
      "_________________________________________________________________\n",
      "block1_pool (MaxPooling2D)   (None, None, None, 64)    0         \n",
      "_________________________________________________________________\n",
      "block2_conv1 (Conv2D)        (None, None, None, 128)   73856     \n",
      "_________________________________________________________________\n",
      "block2_conv2 (Conv2D)        (None, None, None, 128)   147584    \n",
      "_________________________________________________________________\n",
      "block2_pool (MaxPooling2D)   (None, None, None, 128)   0         \n",
      "_________________________________________________________________\n",
      "block3_conv1 (Conv2D)        (None, None, None, 256)   295168    \n",
      "_________________________________________________________________\n",
      "block3_conv2 (Conv2D)        (None, None, None, 256)   590080    \n",
      "_________________________________________________________________\n",
      "block3_conv3 (Conv2D)        (None, None, None, 256)   590080    \n",
      "_________________________________________________________________\n",
      "block3_pool (MaxPooling2D)   (None, None, None, 256)   0         \n",
      "_________________________________________________________________\n",
      "block4_conv1 (Conv2D)        (None, None, None, 512)   1180160   \n",
      "_________________________________________________________________\n",
      "block4_conv2 (Conv2D)        (None, None, None, 512)   2359808   \n",
      "_________________________________________________________________\n",
      "block4_conv3 (Conv2D)        (None, None, None, 512)   2359808   \n",
      "_________________________________________________________________\n",
      "block4_pool (MaxPooling2D)   (None, None, None, 512)   0         \n",
      "_________________________________________________________________\n",
      "block5_conv1 (Conv2D)        (None, None, None, 512)   2359808   \n",
      "_________________________________________________________________\n",
      "block5_conv2 (Conv2D)        (None, None, None, 512)   2359808   \n",
      "_________________________________________________________________\n",
      "block5_conv3 (Conv2D)        (None, None, None, 512)   2359808   \n",
      "_________________________________________________________________\n",
      "block5_pool (MaxPooling2D)   (None, None, None, 512)   0         \n",
      "=================================================================\n",
      "Total params: 14,714,688\n",
      "Trainable params: 14,714,688\n",
      "Non-trainable params: 0\n",
      "_________________________________________________________________\n"
     ]
    }
   ],
   "source": [
    "def load_image(images_path):\n",
    "   img = tf.io.read_file(images_path)\n",
    "   img = tf.image.decode_jpeg(img, channels=3)\n",
    "   img = tf.image.resize(img, (224, 224))\n",
    "   img = preprocess_input(img)\n",
    "   return img, images_path\n",
    "\n",
    "image_model = tf.keras.applications.VGG16(include_top=False, weights='imagenet')\n",
    "new_input = image_model.input\n",
    "hidden_layer = image_model.layers[-1].output\n",
    "image_features_extract_model = tf.keras.Model(new_input, hidden_layer)\n",
    "\n",
    "image_features_extract_model.summary()"
   ]
  },
  {
   "cell_type": "code",
   "execution_count": 16,
   "metadata": {},
   "outputs": [],
   "source": [
    "#encode_train = sorted(set(img_name_vector))\n",
    "image_dataset = tf.data.Dataset.from_tensor_slices(train_img)\n",
    "image_dataset = image_dataset.map(load_image, num_parallel_calls=tf.data.experimental.AUTOTUNE).batch(64)"
   ]
  },
  {
   "cell_type": "code",
   "execution_count": null,
   "metadata": {},
   "outputs": [
    {
     "name": "stderr",
     "output_type": "stream",
     "text": [
      "1it [03:14, 194.98s/it]"
     ]
    }
   ],
   "source": [
    "%%time\n",
    "for img, path in tqdm(image_dataset):\n",
    " batch_features = image_features_extract_model(img)\n",
    " batch_features = tf.reshape(batch_features,\n",
    "                             (batch_features.shape[0], -1, batch_features.shape[3]))\n",
    "\n",
    " for bf, p in zip(batch_features, path):\n",
    "   path_of_feature = p.numpy().decode(\"utf-8\")\n",
    "   np.save(path_of_feature, bf.numpy())"
   ]
  },
  {
   "cell_type": "code",
   "execution_count": null,
   "metadata": {},
   "outputs": [],
   "source": [
    "# Create a list of all the training captions\n",
    "all_train_captions = []\n",
    "for key, val in train_descriptions.items():\n",
    "    for cap in val:\n",
    "        all_train_captions.append(cap)\n",
    "len(all_train_captions)"
   ]
  },
  {
   "cell_type": "code",
   "execution_count": null,
   "metadata": {},
   "outputs": [],
   "source": [
    "# Create a list of all the testing captions\n",
    "all_test_captions = []\n",
    "for key, val in test_descriptions.items():\n",
    "    for cap in val:\n",
    "        all_test_captions.append(cap)\n",
    "len(all_test_captions)"
   ]
  },
  {
   "cell_type": "code",
   "execution_count": null,
   "metadata": {},
   "outputs": [],
   "source": [
    "top_k = 5000\n",
    "tokenizer = tf.keras.preprocessing.text.Tokenizer(num_words=top_k,\n",
    "                                                 oov_token=\"<unk>\",\n",
    "                                                 filters='!\"#$%&()*+.,-/:;=?@[\\]^_`{|}~ ')\n",
    "\n",
    "tokenizer.fit_on_texts(all_train_captions)\n",
    "train_seqs = tokenizer.texts_to_sequences(all_train_captions)\n",
    "tokenizer.word_index['<pad>'] = 0\n",
    "tokenizer.index_word[0] = '<pad>'\n",
    "\n",
    "train_seqs = tokenizer.texts_to_sequences(all_train_captions)\n",
    "cap_vector = tf.keras.preprocessing.sequence.pad_sequences(train_seqs, padding='post')"
   ]
  },
  {
   "cell_type": "code",
   "execution_count": null,
   "metadata": {},
   "outputs": [],
   "source": [
    "all_train_captions[:3]"
   ]
  },
  {
   "cell_type": "code",
   "execution_count": null,
   "metadata": {},
   "outputs": [],
   "source": [
    "train_seqs[:3]"
   ]
  },
  {
   "cell_type": "code",
   "execution_count": null,
   "metadata": {},
   "outputs": [],
   "source": [
    "def calc_max_length(tensor):\n",
    "   return max(len(t) for t in tensor)\n",
    "max_length = calc_max_length(train_seqs)\n",
    "\n",
    "def calc_min_length(tensor):\n",
    "   return min(len(t) for t in tensor)\n",
    "min_length = calc_min_length(train_seqs)\n",
    "\n",
    "print('Max Length of any caption : Min Length of any caption = '+ str(max_length) +\" : \"+str(min_length))"
   ]
  },
  {
   "cell_type": "code",
   "execution_count": null,
   "metadata": {},
   "outputs": [],
   "source": [
    "#img_name_train, img_name_val, cap_train, cap_val = train_test_split(img_name_vector,cap_vector, test_size=0.2, random_state=0)\n",
    "#img_name_train = all_train_captions\n",
    "#img_name_val = test_img all_test_captions\n",
    "#cap_train = cap_vector\n",
    "#cap_val = test_img"
   ]
  },
  {
   "cell_type": "code",
   "execution_count": null,
   "metadata": {},
   "outputs": [],
   "source": [
    "img_name_train = all_train_captions\n",
    "cap_train = cap_vector"
   ]
  },
  {
   "cell_type": "code",
   "execution_count": null,
   "metadata": {},
   "outputs": [],
   "source": [
    "BATCH_SIZE = 64\n",
    "BUFFER_SIZE = 1000\n",
    "embedding_dim = 256\n",
    "units = 512\n",
    "vocab_size = len(tokenizer.word_index) + 1\n",
    "num_steps = len(img_name_train) // BATCH_SIZE\n",
    "features_shape = 512\n",
    "attention_features_shape = 49"
   ]
  },
  {
   "cell_type": "code",
   "execution_count": null,
   "metadata": {},
   "outputs": [],
   "source": [
    "def map_func(img_name, cap):\n",
    " img_tensor = np.load(img_name.decode('utf-8')+'.npy')\n",
    " return img_tensor, cap\n",
    "dataset = tf.data.Dataset.from_tensor_slices((img_name_train, cap_train))\n",
    "\n",
    "# Use map to load the numpy files in parallel\n",
    "dataset = dataset.map(lambda item1, item2: tf.numpy_function(\n",
    "        map_func, [item1, item2], [tf.float32, tf.int32]),\n",
    "         num_parallel_calls=tf.data.experimental.AUTOTUNE)\n",
    "\n",
    "dataset = dataset.shuffle(BUFFER_SIZE).batch(BATCH_SIZE)\n",
    "dataset = dataset.prefetch(buffer_size=tf.data.experimental.AUTOTUNE)"
   ]
  },
  {
   "cell_type": "code",
   "execution_count": null,
   "metadata": {},
   "outputs": [],
   "source": [
    "class VGG16_Encoder(tf.keras.Model):\n",
    "   # This encoder passes the features through a Fully connected layer\n",
    "   def __init__(self, embedding_dim):\n",
    "       super(VGG16_Encoder, self).__init__()\n",
    "       # shape after fc == (batch_size, 49, embedding_dim)\n",
    "       self.fc = tf.keras.layers.Dense(embedding_dim)\n",
    "       self.dropout = tf.keras.layers.Dropout(0.5, noise_shape=None, seed=None)\n",
    "\n",
    "   def call(self, x):\n",
    "       #x= self.dropout(x)\n",
    "       x = self.fc(x)\n",
    "       x = tf.nn.relu(x)\n",
    "       return x "
   ]
  },
  {
   "cell_type": "code",
   "execution_count": null,
   "metadata": {},
   "outputs": [],
   "source": [
    "'''The encoder output(i.e. 'features'), hidden state(initialized to 0)(i.e. 'hidden') and\n",
    "the decoder input (which is the start token)(i.e. 'x') is passed to the decoder.'''\n",
    "\n",
    "class Rnn_Local_Decoder(tf.keras.Model):\n",
    " def __init__(self, embedding_dim, units, vocab_size):\n",
    "   super(Rnn_Local_Decoder, self).__init__()\n",
    "   self.units = units\n",
    "   self.embedding = tf.keras.layers.Embedding(vocab_size, embedding_dim)\n",
    "   self.gru = tf.keras.layers.GRU(self.units,\n",
    "                                  return_sequences=True,\n",
    "                                  return_state=True,\n",
    "                                  recurrent_initializer='glorot_uniform')\n",
    "  \n",
    "   self.fc1 = tf.keras.layers.Dense(self.units)\n",
    "\n",
    "   self.dropout = tf.keras.layers.Dropout(0.5, noise_shape=None, seed=None)\n",
    "   self.batchnormalization = tf.keras.layers.BatchNormalization(axis=-1, momentum=0.99, epsilon=0.001, center=True, scale=True, beta_initializer='zeros', gamma_initializer='ones', moving_mean_initializer='zeros', moving_variance_initializer='ones', beta_regularizer=None, gamma_regularizer=None, beta_constraint=None, gamma_constraint=None)\n",
    "\n",
    "   self.fc2 = tf.keras.layers.Dense(vocab_size)\n",
    "\n",
    "   # Implementing Attention Mechanism\n",
    "   self.Uattn = tf.keras.layers.Dense(units)\n",
    "   self.Wattn = tf.keras.layers.Dense(units)\n",
    "   self.Vattn = tf.keras.layers.Dense(1)\n",
    "\n",
    " def call(self, x, features, hidden):\n",
    "   # features shape ==> (64,49,256) ==> Output from ENCODER\n",
    "   # hidden shape == (batch_size, hidden_size) ==>(64,512)\n",
    "   # hidden_with_time_axis shape == (batch_size, 1, hidden_size) ==> (64,1,512)\n",
    "\n",
    "   hidden_with_time_axis = tf.expand_dims(hidden, 1)\n",
    "\n",
    "   # score shape == (64, 49, 1)\n",
    "   # Attention Function\n",
    "   '''e(ij) = f(s(t-1),h(j))'''\n",
    "   ''' e(ij) = Vattn(T)*tanh(Uattn * h(j) + Wattn * s(t))'''\n",
    "\n",
    "   score = self.Vattn(tf.nn.tanh(self.Uattn(features) + self.Wattn(hidden_with_time_axis)))\n",
    "\n",
    "   # self.Uattn(features) : (64,49,512)\n",
    "   # self.Wattn(hidden_with_time_axis) : (64,1,512)\n",
    "   # tf.nn.tanh(self.Uattn(features) + self.Wattn(hidden_with_time_axis)) : (64,49,512)\n",
    "   # self.Vattn(tf.nn.tanh(self.Uattn(features) + self.Wattn(hidden_with_time_axis))) : (64,49,1) ==> score\n",
    "\n",
    "   # you get 1 at the last axis because you are applying score to self.Vattn\n",
    "   # Then find Probability using Softmax\n",
    "   '''attention_weights(alpha(ij)) = softmax(e(ij))'''\n",
    "\n",
    "   attention_weights = tf.nn.softmax(score, axis=1)\n",
    "\n",
    "   # attention_weights shape == (64, 49, 1)\n",
    "   # Give weights to the different pixels in the image\n",
    "   ''' C(t) = Summation(j=1 to T) (attention_weights * VGG-16 features) '''\n",
    "\n",
    "   context_vector = attention_weights * features\n",
    "   context_vector = tf.reduce_sum(context_vector, axis=1)\n",
    "\n",
    "   # Context Vector(64,256) = AttentionWeights(64,49,1) * features(64,49,256)\n",
    "   # context_vector shape after sum == (64, 256)\n",
    "   # x shape after passing through embedding == (64, 1, 256)\n",
    "\n",
    "   x = self.embedding(x)\n",
    "   # x shape after concatenation == (64, 1,  512)\n",
    "\n",
    "   x = tf.concat([tf.expand_dims(context_vector, 1), x], axis=-1)\n",
    "   # passing the concatenated vector to the GRU\n",
    "\n",
    "   output, state = self.gru(x)\n",
    "   # shape == (batch_size, max_length, hidden_size)\n",
    "\n",
    "   x = self.fc1(output)\n",
    "   # x shape == (batch_size * max_length, hidden_size)\n",
    "\n",
    "   x = tf.reshape(x, (-1, x.shape[2]))\n",
    "\n",
    "   # Adding Dropout and BatchNorm Layers\n",
    "   x= self.dropout(x)\n",
    "   x= self.batchnormalization(x)\n",
    "\n",
    "   # output shape == (64 * 512)\n",
    "   x = self.fc2(x)\n",
    "\n",
    "   # shape : (64 * 8329(vocab))\n",
    "   return x, state, attention_weights\n",
    "\n",
    " def reset_state(self, batch_size):\n",
    "   return tf.zeros((batch_size, self.units))\n",
    "\n",
    "\n",
    "encoder = VGG16_Encoder(embedding_dim)\n",
    "decoder = Rnn_Local_Decoder(embedding_dim, units, vocab_size)"
   ]
  },
  {
   "cell_type": "code",
   "execution_count": null,
   "metadata": {},
   "outputs": [],
   "source": [
    "optimizer = tf.keras.optimizers.Adam()\n",
    "loss_object = tf.keras.losses.SparseCategoricalCrossentropy(\n",
    "   from_logits=True, reduction='none')\n",
    "\n",
    "def loss_function(real, pred):\n",
    " mask = tf.math.logical_not(tf.math.equal(real, 0))\n",
    " loss_ = loss_object(real, pred)\n",
    " mask = tf.cast(mask, dtype=loss_.dtype)\n",
    " loss_ *= mask\n",
    "\n",
    " return tf.reduce_mean(loss_)"
   ]
  },
  {
   "cell_type": "code",
   "execution_count": null,
   "metadata": {},
   "outputs": [],
   "source": [
    "loss_plot = []\n",
    "\n",
    "@tf.function\n",
    "def train_step(img_tensor, target):\n",
    " loss = 0\n",
    " # initializing the hidden state for each batch\n",
    " # because the captions are not related from image to image\n",
    "\n",
    " hidden = decoder.reset_state(batch_size=target.shape[0])\n",
    " dec_input = tf.expand_dims([tokenizer.word_index['startseq']] * BATCH_SIZE, 1)\n",
    "\n",
    " with tf.GradientTape() as tape:\n",
    "     features = encoder(img_tensor)\n",
    "     for i in range(1, target.shape[1]):\n",
    "         # passing the features through the decoder\n",
    "         predictions, hidden, _ = decoder(dec_input, features, hidden)\n",
    "         loss += loss_function(target[:, i], predictions)\n",
    "\n",
    "         # using teacher forcing\n",
    "         dec_input = tf.expand_dims(target[:, i], 1)\n",
    "\n",
    " total_loss = (loss / int(target.shape[1]))\n",
    " trainable_variables = encoder.trainable_variables + decoder.trainable_variables\n",
    " gradients = tape.gradient(loss, trainable_variables)\n",
    " optimizer.apply_gradients(zip(gradients, trainable_variables))\n",
    "\n",
    " return loss, total_loss"
   ]
  },
  {
   "cell_type": "code",
   "execution_count": null,
   "metadata": {},
   "outputs": [],
   "source": [
    "# longest step, set EPOCHS = 10 for good results. It takes about 12h on bad PC with CPU.\n",
    "\n",
    "EPOCHS = 1\n",
    "for epoch in range(0, EPOCHS):\n",
    "   start = time.time()\n",
    "   total_loss = 0\n",
    "\n",
    "   for (batch, (img_tensor, target)) in enumerate(dataset):\n",
    "       batch_loss, t_loss = train_step(img_tensor, target)\n",
    "       total_loss += t_loss\n",
    "\n",
    "       if batch % 100 == 0:\n",
    "           print ('Epoch {} Batch {} Loss {:.4f}'.format(\n",
    "             epoch + 1, batch, batch_loss.numpy() / int(target.shape[1])))\n",
    "   # storing the epoch end loss value to plot later\n",
    "   loss_plot.append(total_loss / num_steps)\n",
    "\n",
    "   print ('Epoch {} Loss {:.6f}'.format(epoch + 1,\n",
    "                                        total_loss/num_steps))\n",
    "\n",
    "   print ('Time taken for 1 epoch {} sec\\n'.format(time.time() - start))"
   ]
  },
  {
   "cell_type": "code",
   "execution_count": null,
   "metadata": {},
   "outputs": [],
   "source": [
    "plt.plot(loss_plot)\n",
    "plt.xlabel('Epochs')\n",
    "plt.ylabel('Loss')\n",
    "plt.title('Loss Plot')\n",
    "plt.show()"
   ]
  },
  {
   "cell_type": "code",
   "execution_count": null,
   "metadata": {},
   "outputs": [],
   "source": [
    "def evaluate(image):\n",
    "   attention_plot = np.zeros((max_length, attention_features_shape))\n",
    "\n",
    "   hidden = decoder.reset_state(batch_size=1)\n",
    "   temp_input = tf.expand_dims(load_image(image)[0], 0)\n",
    "   img_tensor_val = image_features_extract_model(temp_input)\n",
    "   img_tensor_val = tf.reshape(img_tensor_val, (img_tensor_val.shape[0], -1, img_tensor_val.shape[3]))\n",
    "\n",
    "   features = encoder(img_tensor_val)\n",
    "   dec_input = tf.expand_dims([tokenizer.word_index['startseq']], 0)\n",
    "   result = []\n",
    "\n",
    "   for i in range(max_length):\n",
    "       predictions, hidden, attention_weights = decoder(dec_input, features, hidden)\n",
    "       attention_plot[i] = tf.reshape(attention_weights, (-1, )).numpy()\n",
    "       predicted_id = tf.argmax(predictions[0]).numpy()\n",
    "       result.append(tokenizer.index_word[predicted_id])\n",
    "\n",
    "       if tokenizer.index_word[predicted_id] == 'endseq':\n",
    "           return result, attention_plot\n",
    "\n",
    "       dec_input = tf.expand_dims([predicted_id], 0)\n",
    "   attention_plot = attention_plot[:len(result), :]\n",
    "   \n",
    "   #remove \"<unk>\" in result\n",
    "   for i in result:\n",
    "        if i==\"<unk>\":\n",
    "            result.remove(i)\n",
    "\n",
    "   #remove endseq from result        \n",
    "   result_join = ' '.join(result)\n",
    "   result_final = result_join.rsplit(' ', 1)[0]\n",
    "\n",
    "   return result, result_final, attention_plot"
   ]
  },
  {
   "cell_type": "code",
   "execution_count": null,
   "metadata": {},
   "outputs": [],
   "source": [
    "def plot_attention(image, result, attention_plot):\n",
    "   temp_image = np.array(Image.open(image))\n",
    "   fig = plt.figure(figsize=(10, 10))\n",
    "   len_result = len(result)\n",
    "   for l in range(len_result):\n",
    "       temp_att = np.resize(attention_plot[l], (8, 8))\n",
    "       ax = fig.add_subplot(len_result//2, len_result//2, l+1)\n",
    "       ax.set_title(result[l])\n",
    "       img = ax.imshow(temp_image)\n",
    "       ax.imshow(temp_att, cmap='gray', alpha=0.6, extent=img.get_extent())\n",
    "\n",
    "   plt.tight_layout()\n",
    "   plt.show()"
   ]
  },
  {
   "cell_type": "code",
   "execution_count": null,
   "metadata": {},
   "outputs": [],
   "source": [
    "### end of local attention"
   ]
  },
  {
   "cell_type": "code",
   "execution_count": null,
   "metadata": {},
   "outputs": [],
   "source": [
    "# Consider only words which occur at least 10 times in the corpus - TODO: check if worth it\n",
    "\"\"\"\n",
    "word_count_threshold = 10\n",
    "word_counts = {}\n",
    "nsents = 0\n",
    "for sent in all_train_captions:\n",
    "    nsents += 1\n",
    "    for w in sent.split(' '):\n",
    "        word_counts[w] = word_counts.get(w, 0) + 1\n",
    "\n",
    "vocab = [w for w in word_counts if word_counts[w] >= word_count_threshold]\n",
    "print('preprocessed words %d -> %d' % (len(word_counts), len(vocab)))\n",
    "\"\"\""
   ]
  },
  {
   "cell_type": "code",
   "execution_count": null,
   "metadata": {},
   "outputs": [],
   "source": [
    "#TODO: check how to save weights here\n",
    "#if config[\"train_model\"]:\n",
    "#    model.save_weights(config[\"lstm_model_save_path\"])"
   ]
  },
  {
   "cell_type": "code",
   "execution_count": null,
   "metadata": {},
   "outputs": [],
   "source": [
    "#TODO: check how to load weights here\n",
    "\n",
    "#model.load_weights(config[\"lstm_model_save_path\"])"
   ]
  },
  {
   "cell_type": "code",
   "execution_count": null,
   "metadata": {},
   "outputs": [],
   "source": [
    "#### Results\n",
    "for i in range(0,5):\n",
    "    pic = test_img[i]\n",
    "    x = np.array(Image.open(pic))\n",
    "    #get image name from image path\n",
    "    img_name = pic.split('\\\\')[1].split('.')[0]\n",
    "    plt.imshow(x)\n",
    "    plt.show()\n",
    "    print(\"\\nValid descriptions:\")\n",
    "    print(descriptions[img_name])\n",
    "    \n",
    "    result, result_final, attention_plot = evaluate(pic)\n",
    "    \n",
    "    print(\"\\nLocal attention:\", result_final)\n",
    "    plot_attention(pic, result, attention_plot)\n"
   ]
  },
  {
   "cell_type": "code",
   "execution_count": null,
   "metadata": {},
   "outputs": [],
   "source": [
    "#### Metrics\n",
    "##### Cider\n",
    "#function for calculating cider metric\n",
    "from sklearn.feature_extraction.text import TfidfVectorizer\n",
    "from sklearn.metrics.pairwise import cosine_similarity\n",
    "\n",
    "def cider(given_captions, prediction):\n",
    "    prediction_arr = []\n",
    "    prediction_arr.append(prediction)\n",
    "    vectorizer = TfidfVectorizer()\n",
    "    trainedV = vectorizer.fit(given_captions)\n",
    "    givenTfIdf = trainedV.transform(given_captions).toarray()\n",
    "    predTfIdf = trainedV.transform(prediction_arr).toarray()\n",
    "    partialCiders = 0\n",
    "    help_arr = []\n",
    "    \n",
    "    for c in givenTfIdf:\n",
    "        help_arr.append(c)\n",
    "        partialCiders = partialCiders + cosine_similarity(predTfIdf,help_arr)\n",
    "        help_arr = []\n",
    "        \n",
    "    return partialCiders/len(givenTfIdf)"
   ]
  },
  {
   "cell_type": "code",
   "execution_count": null,
   "metadata": {},
   "outputs": [],
   "source": [
    "#### \n",
    "import warnings; warnings.simplefilter('ignore')\n",
    "from IPython.display import clear_output\n",
    "\n",
    "#preparation of metrics lists\n",
    "bleu_train_scores = []\n",
    "meteor_train_scores = []\n",
    "cider_train_scores = []\n",
    "    \n",
    "for i in range(0,5):\n",
    "    bleu_train_scores.append([])\n",
    "    meteor_train_scores.append([])\n",
    "    cider_train_scores.append([])\n",
    "    \n",
    "    train_pics = list(encoding_train.keys())\n",
    "\n",
    "    #calculation of metrics for train images dataset\n",
    "    for j in range(0,len(train_pics)):\n",
    "        pic = train_pics[j]\n",
    "        image = encoding_train[pic].reshape((1,2048))\n",
    "\n",
    "        actual_desc_0 = descriptions[pic.rsplit( \".\", 1 )[ 0 ]][0]\n",
    "        actual_desc_1 = descriptions[pic.rsplit( \".\", 1 )[ 0 ]][1]\n",
    "        generated = greedySearch(image)\n",
    "        bleu_train_scores[i].append(\n",
    "            sentence_bleu(\n",
    "                [actual_desc_0.split(), actual_desc_1.split()],\n",
    "                generated.split())\n",
    "        )\n",
    "        meteor_train_scores[i].append(meteor_score(descriptions[pic.split('.')[0]],generated))\n",
    "        cider_train_scores[i].append(cider(descriptions[pic.split('.')[0]],generated)[0][0])\n",
    "\n",
    "        clear_output(wait=True)\n",
    "        print('train',i,j, flush=True)\n",
    "\n",
    "result_data = {}\n",
    "\n",
    "#calculate mean score based on socres list for each metric\n",
    "for i in range(0,5):\n",
    "    result_data[str(i)] = [\n",
    "        mean(bleu_train_scores[i]),\n",
    "        mean(meteor_train_scores[i]),\n",
    "        mean(cider_train_scores[i]),\n",
    "    ]\n",
    "\n",
    "result = pd.DataFrame.from_dict(\n",
    "    result_data,\n",
    "    orient='index',\n",
    "    columns=['Bleu TREN', 'Bleu TEST', 'Meteor TREN', 'Meteor TEST', 'CIDEr TREN', 'CIDEr TEST']\n",
    ")\n",
    "\n",
    "result"
   ]
  },
  {
   "cell_type": "code",
   "execution_count": null,
   "metadata": {},
   "outputs": [],
   "source": [
    " #preparation of metrics lists\n",
    "bleu_test_scores = []\n",
    "meteor_test_scores = []\n",
    "cider_test_scores = []\n",
    "    \n",
    "for i in range(0,5):\n",
    "\n",
    "    bleu_test_scores.append([])\n",
    "    meteor_test_scores.append([])\n",
    "    cider_test_scores.append([])\n",
    "    test_pics = list(encoding_test.keys())\n",
    "\n",
    "    #calculation of metrics for test images dataset\n",
    "    for j in range(0,len(test_pics)):\n",
    "        pic = test_pics[j]\n",
    "        image = encoding_test[pic].reshape((1,2048))\n",
    "\n",
    "        actual_desc_0 = descriptions[pic.rsplit( \".\", 1 )[ 0 ]][0]\n",
    "        actual_desc_1 = descriptions[pic.rsplit( \".\", 1 )[ 0 ]][1]\n",
    "        generated = greedySearch(image)\n",
    "        bleu_test_scores[i].append(\n",
    "            sentence_bleu(\n",
    "                [actual_desc_0.split(), actual_desc_1.split()],\n",
    "                generated.split())\n",
    "        )\n",
    "        meteor_test_scores[i].append(meteor_score(descriptions[pic.split('.')[0]],generated))\n",
    "        cider_test_scores[i].append(cider(descriptions[pic.split('.')[0]],generated)[0][0])\n",
    "\n",
    "        clear_output(wait=True)\n",
    "        print('test',i,j, flush=True)\n",
    "\n",
    "\n",
    "result_data = {}\n",
    "\n",
    "#calculate mean score based on socres list for each metric\n",
    "for i in range(0,5):\n",
    "    result_data[str(i)] = [\n",
    "        mean(bleu_test_scores[i]),\n",
    "        mean(meteor_test_scores[i]),\n",
    "        mean(cider_test_scores[i])\n",
    "    ]\n",
    "\n",
    "result = pd.DataFrame.from_dict(\n",
    "    result_data,\n",
    "    orient='index',\n",
    "    columns=['Bleu TREN', 'Bleu TEST', 'Meteor TREN', 'Meteor TEST', 'CIDEr TREN', 'CIDEr TEST']\n",
    ")\n",
    "\n",
    "result"
   ]
  },
  {
   "cell_type": "code",
   "execution_count": null,
   "metadata": {},
   "outputs": [],
   "source": [
    "#calculate mean score based on socres list for each metric\n",
    "from numpy import mean\n",
    "\n",
    "for i in range(0,5):\n",
    "    result_data[str(i)] = [\n",
    "        mean(bleu_test_scores[i]),\n",
    "        mean(meteor_test_scores[i]),\n",
    "        mean(cider_test_scores[i])\n",
    "    ]\n",
    "\n",
    "result = pd.DataFrame.from_dict(\n",
    "    result_data,\n",
    "    orient='index',\n",
    "    columns=['Bleu', 'Meteor TREN', 'Meteor TEST', 'CIDEr TREN', 'CIDEr TEST']\n",
    ")\n",
    "\n",
    "result"
   ]
  }
 ],
 "metadata": {
  "kernelspec": {
   "display_name": "deep",
   "language": "python",
   "name": "deep"
  },
  "language_info": {
   "codemirror_mode": {
    "name": "ipython",
    "version": 3
   },
   "file_extension": ".py",
   "mimetype": "text/x-python",
   "name": "python",
   "nbconvert_exporter": "python",
   "pygments_lexer": "ipython3",
   "version": "3.7.9"
  }
 },
 "nbformat": 4,
 "nbformat_minor": 2
}
