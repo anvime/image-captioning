{
 "cells": [
  {
   "cell_type": "code",
   "execution_count": null,
   "metadata": {},
   "outputs": [],
   "source": [
    "#### Rama projektowa - Opisywanie obrazów z wykorzystaniem głębokiego uczenia\n",
    "#### autorzy: Anna Konieczna, Mateusz Ostrowski"
   ]
  },
  {
   "cell_type": "markdown",
   "metadata": {},
   "source": [
    "### Rama projektowa\n",
    "Tutorial: https://towardsdatascience.com/image-captioning-with-keras-teaching-computers-to-describe-pictures-c88a46a311b8 <br>\n",
    "Zbiór danych: <br>\n",
    "#### Opis:  <br>\n"
   ]
  },
  {
   "cell_type": "code",
   "execution_count": null,
   "metadata": {},
   "outputs": [],
   "source": [
    "#### Config\n",
    "config = { \"images_path\": \"../Flickr8k_Dataset/\",\n",
    "           \"train_images_path\": \"../Flickr8k_text/Flickr_8k.trainImages.txt\", # file conatains the names of images to be used in train data\n",
    "           \"test_images_path\": \"../Flickr8k_text/Flickr_8k.testImages.txt\",\n",
    "           \"train_path\": \"../Flickr8k_text/Flickr_8k.trainImages.txt\", \n",
    "           \"token_path\": \"../Flickr8k_text/Flickr8k.token.txt\",\n",
    "           \"word_embedings_path\": \"../glove/glove.6B.200d.txt\",\n",
    "           \"embedings_dim\": 200, # Polish - 100\n",
    "           \"train_model\": False, # True if you intend to train the model\n",
    "           \"encode_images\": False,\n",
    "           \"pretrained_model_path\": \"\",\n",
    "           \"encoded_images_test\": \"../Pickle/encoded_test_images.pkl\",\n",
    "           \"encoded_images_train\": \"../Pickle/encoded_train_images.pkl\",\n",
    "           \"report_path\": \"\",\n",
    "           \"preprocessed_descriptions_save_path\": \"descriptions.txt\",\n",
    "           \"use_lemma\": False,\n",
    "           \"spacy_lemma_model\": \"pl_spacy_model\",\n",
    "           \"lstm_model_save_dir\": \"../model_weights/\",\n",
    "           \"lstm_model_save_path\": \"../model_weights/model_30.h5\"}"
   ]
  },
  {
   "cell_type": "code",
   "execution_count": null,
   "metadata": {},
   "outputs": [],
   "source": [
    "import numpy as np\n",
    "from numpy import array\n",
    "import pandas as pd\n",
    "import matplotlib.pyplot as plt\n",
    "%matplotlib inline\n",
    "import string\n",
    "import os\n",
    "from PIL import Image\n",
    "import glob\n",
    "from pickle import dump, load\n",
    "from time import time\n",
    "from keras.preprocessing import sequence\n",
    "from keras.models import Sequential\n",
    "from keras.layers import LSTM, Embedding, TimeDistributed, Dense, RepeatVector,\\\n",
    "                         Activation, Flatten, Reshape, concatenate, Dropout, BatchNormalization\n",
    "from keras.optimizers import Adam, RMSprop\n",
    "from keras.layers.wrappers import Bidirectional\n",
    "from keras.layers.merge import add\n",
    "from keras.applications.inception_v3 import InceptionV3\n",
    "from keras.preprocessing import image\n",
    "from keras.models import Model\n",
    "from keras import Input, layers\n",
    "from keras import optimizers\n",
    "from keras.applications.inception_v3 import preprocess_input\n",
    "from keras.preprocessing.text import Tokenizer\n",
    "from keras.preprocessing.sequence import pad_sequences\n",
    "from keras.utils import to_categorical\n",
    "from nltk.translate.meteor_score import meteor_score\n",
    "from nltk.translate.bleu_score import sentence_bleu, corpus_bleu"
   ]
  },
  {
   "cell_type": "code",
   "execution_count": null,
   "metadata": {},
   "outputs": [],
   "source": [
    "# Load the description set\n",
    "\n",
    "def load_doc(filename):\n",
    "\tfile = open(filename, 'r')\n",
    "\ttext = file.read()\n",
    "\tfile.close()\n",
    "\treturn text\n",
    "\n",
    "filename = config[\"token_path\"]\n",
    "# załaduj opisy\n",
    "doc = load_doc(filename)\n",
    "print(doc[:300])"
   ]
  },
  {
   "cell_type": "code",
   "execution_count": null,
   "metadata": {},
   "outputs": [],
   "source": [
    "# Load the descriptions to dict structure\n",
    "\n",
    "def load_descriptions(doc):\n",
    "\tmapping = dict()\n",
    "\tfor line in doc.split('\\n'):\n",
    "\t\ttokens = line.split()\n",
    "\t\tif len(line) < 2:\n",
    "\t\t\tcontinue\n",
    "\t\t# take the first token as the image id, the rest as the description\n",
    "\t\timage_id, image_desc = tokens[0], tokens[1:]\n",
    "\t\t# extract filename from image id\n",
    "\t\timage_id = image_id.split('.')[0]\n",
    "\t\t# convert description tokens back to string\n",
    "\t\timage_desc = ' '.join(image_desc)\n",
    "\t\t# create the list if needed\n",
    "\t\tif image_id not in mapping:\n",
    "\t\t\tmapping[image_id] = list()\n",
    "\t\t# store description\n",
    "\t\tmapping[image_id].append(image_desc)\n",
    "\treturn mapping\n",
    "\n",
    "# parse descriptions\n",
    "descriptions = load_descriptions(doc)\n",
    "print('Loaded: %d ' % len(descriptions))"
   ]
  },
  {
   "cell_type": "code",
   "execution_count": null,
   "metadata": {},
   "outputs": [],
   "source": [
    "if config[\"use_lemma\"]:\n",
    "    import spacy\n",
    "    nlp = spacy.load('pl_spacy_model')\n",
    "\n",
    "def clean_descriptions(descriptions):\n",
    "  # prepare translation table for removing punctuation\n",
    "  table = str.maketrans('', '', string.punctuation)\n",
    "  for key, desc_list in descriptions.items():\n",
    "    for i in range(len(desc_list)):\n",
    "      desc = desc_list[i]\n",
    "      if config[\"use_lemma\"]:\n",
    "          doc = nlp(desc)\n",
    "      # tokenize\n",
    "      desc = desc.split()\n",
    "      # convert to lower case\n",
    "      desc = [word.lower() for word in desc]\n",
    "# Lematyzacja\n",
    "#### spacy model from here: http://zil.ipipan.waw.pl/SpacyPL?action=AttachFile&do=view&target=pl_spacy_model-0.1.0.tar.gz\n",
    "#### spacy dokumentacja - https://spacy.io/usage\n",
    "      if config[\"use_lemma\"]:\n",
    "          desc = [word.lemma_ for word in doc]\n",
    "      # remove punctuation from each token\n",
    "      desc = [w.translate(table) for w in desc]\n",
    "      # remove tokens with numbers in them\n",
    "      desc = [word for word in desc if word.isalpha()]\n",
    "      # store as string\n",
    "      desc_list[i] =  ' '.join(desc)\n",
    "\n",
    "# clean descriptions\n",
    "clean_descriptions(descriptions)"
   ]
  },
  {
   "cell_type": "code",
   "execution_count": null,
   "metadata": {},
   "outputs": [],
   "source": [
    "# convert the loaded descriptions into a vocabulary of words\n",
    "def to_vocabulary(descriptions):\n",
    "\t# build a list of all description strings\n",
    "\tall_desc = set()\n",
    "\tfor key in descriptions.keys():\n",
    "\t\t[all_desc.update(d.split()) for d in descriptions[key]]\n",
    "\treturn all_desc\n",
    "\n",
    "# summarize vocabulary\n",
    "vocabulary = to_vocabulary(descriptions)\n",
    "print('Original Vocabulary Size: %d' % len(vocabulary))"
   ]
  },
  {
   "cell_type": "code",
   "execution_count": null,
   "metadata": {},
   "outputs": [],
   "source": [
    "# save descriptions to file, one per line\n",
    "def save_descriptions(descriptions, filename):\n",
    "\tlines = list()\n",
    "\tfor key, desc_list in descriptions.items():\n",
    "\t\tfor desc in desc_list:\n",
    "\t\t\tlines.append(key + ' ' + desc)\n",
    "\tdata = '\\n'.join(lines)\n",
    "\tfile = open(filename, 'w')\n",
    "\tfile.write(data)\n",
    "\tfile.close()\n",
    "\n",
    "save_descriptions(descriptions, config[\"preprocessed_descriptions_save_path\"])"
   ]
  },
  {
   "cell_type": "code",
   "execution_count": null,
   "metadata": {},
   "outputs": [],
   "source": [
    "# load a pre-defined list of photo identifiers\n",
    "def load_set(filename):\n",
    "\tdoc = load_doc(filename)\n",
    "\tdataset = list()\n",
    "\t# process line by line\n",
    "\tfor line in doc.split('\\n'):\n",
    "\t\t# skip empty lines\n",
    "\t\tif len(line) < 1:\n",
    "\t\t\tcontinue\n",
    "\t\t# get the image identifier\n",
    "\t\tidentifier = line.split('.')[0]\n",
    "\t\tdataset.append(identifier)\n",
    "\treturn set(dataset)\n",
    "\n",
    "# load training dataset (6K)\n",
    "filename = config[\"train_path\"]\n",
    "train = load_set(filename)\n",
    "print('Dataset: %d' % len(train))"
   ]
  },
  {
   "cell_type": "code",
   "execution_count": null,
   "metadata": {},
   "outputs": [],
   "source": [
    "# Below path contains all the images\n",
    "images = config[\"images_path\"]\n",
    "# Create a list of all image names in the directory\n",
    "img = glob.glob(images + '*.jpg')"
   ]
  },
  {
   "cell_type": "code",
   "execution_count": null,
   "metadata": {},
   "outputs": [],
   "source": [
    "# Read the train image names in a set\n",
    "train_images = set(open(config[\"train_images_path\"], 'r').read().strip().split('\\n'))\n",
    "\n",
    "# Create a list of all the training images with their full path names\n",
    "train_img = []\n",
    "\n",
    "for i in img: # img is list of full path names of all images\n",
    "    if i[len(images):] in train_images: # Check if the image belongs to training set\n",
    "        train_img.append(i) # Add it to the list of train images"
   ]
  },
  {
   "cell_type": "code",
   "execution_count": null,
   "metadata": {},
   "outputs": [],
   "source": [
    "# Below file conatains the names of images to be used in test data\n",
    "test_images_file = config[\"test_images_path\"]\n",
    "# Read the validation image names in a set# Read the test image names in a set\n",
    "test_images = set(open(test_images_file, 'r').read().strip().split('\\n'))\n",
    "\n",
    "# Create a list of all the test images with their full path names\n",
    "test_img = []\n",
    "\n",
    "for i in img: # img is list of full path names of all images\n",
    "    if i[len(images):] in test_images: # Check if the image belongs to test set\n",
    "        test_img.append(i) # Add it to the list of test images"
   ]
  },
  {
   "cell_type": "code",
   "execution_count": null,
   "metadata": {},
   "outputs": [],
   "source": [
    "# load clean descriptions into memory\n",
    "def load_clean_descriptions(filename, dataset):\n",
    "\t# load document\n",
    "\tdoc = load_doc(filename)\n",
    "\tdescriptions = dict()\n",
    "\tfor line in doc.split('\\n'):\n",
    "\t\t# split line by white space\n",
    "\t\ttokens = line.split()\n",
    "\t\t# split id from description\n",
    "\t\timage_id, image_desc = tokens[0], tokens[1:]\n",
    "\t\t# skip images not in the set\n",
    "\t\tif image_id in dataset:\n",
    "\t\t\t# create list\n",
    "\t\t\tif image_id not in descriptions:\n",
    "\t\t\t\tdescriptions[image_id] = list()\n",
    "\t\t\t# wrap description in tokens\n",
    "\t\t\tdesc = 'startseq ' + ' '.join(image_desc) + ' endseq'\n",
    "\t\t\t# store\n",
    "\t\t\tdescriptions[image_id].append(desc)\n",
    "\treturn descriptions\n",
    "\n",
    "# descriptions\n",
    "train_descriptions = load_clean_descriptions(config[\"preprocessed_descriptions_save_path\"], train)\n",
    "print('Descriptions: train=%d' % len(train_descriptions))"
   ]
  },
  {
   "cell_type": "code",
   "execution_count": null,
   "metadata": {},
   "outputs": [],
   "source": [
    "def preprocess(image_path):\n",
    "    # Convert all the images to size 299x299 as expected by the inception v3 model\n",
    "    img = image.load_img(image_path, target_size=(299, 299))\n",
    "    # Convert PIL image to numpy array of 3-dimensions\n",
    "    x = image.img_to_array(img)\n",
    "    # Add one more dimension\n",
    "    x = np.expand_dims(x, axis=0)\n",
    "    # preprocess the images using preprocess_input() from inception module\n",
    "    x = preprocess_input(x)\n",
    "    return x"
   ]
  },
  {
   "cell_type": "code",
   "execution_count": null,
   "metadata": {},
   "outputs": [],
   "source": [
    "# Load the inception v3 model\n",
    "model = InceptionV3(weights='imagenet')"
   ]
  },
  {
   "cell_type": "code",
   "execution_count": null,
   "metadata": {},
   "outputs": [],
   "source": [
    "# Create a new model, by removing the last layer (output layer) from the inception v3\n",
    "model_new = Model(model.input, model.layers[-2].output)"
   ]
  },
  {
   "cell_type": "code",
   "execution_count": null,
   "metadata": {},
   "outputs": [],
   "source": [
    "# Function to encode a given image into a vector of size (2048, )\n",
    "def encode(image):\n",
    "    image = preprocess(image) # preprocess the image\n",
    "    fea_vec = model_new.predict(image) # Get the encoding vector for the image\n",
    "    fea_vec = np.reshape(fea_vec, fea_vec.shape[1]) # reshape from (1, 2048) to (2048, )\n",
    "    return fea_vec"
   ]
  },
  {
   "cell_type": "code",
   "execution_count": null,
   "metadata": {},
   "outputs": [],
   "source": [
    "# Call the funtion to encode all the train images\n",
    "# This will take a while on CPU - Execute this only once\n",
    "if config[\"encode_images\"]:\n",
    "    start = time()\n",
    "    encoding_train = {}\n",
    "    for img in train_img:\n",
    "        encoding_train[img[len(images):]] = encode(img)\n",
    "        print('.', end='')\n",
    "    print(\"Time taken in seconds =\", time()-start)"
   ]
  },
  {
   "cell_type": "code",
   "execution_count": null,
   "metadata": {},
   "outputs": [],
   "source": [
    "import os\n",
    "import pickle\n",
    "\n",
    "if config[\"encode_images\"]:\n",
    "    mode = 'a' if os.path.exists(config[\"encoded_images_train\"]) else 'wb'\n",
    "\n",
    "    # Save the bottleneck train features to disk\n",
    "    with open(config[\"encoded_images_train\"], \"wb\") as encoded_pickle:\n",
    "        pickle.dump(encoding_train, encoded_pickle)"
   ]
  },
  {
   "cell_type": "code",
   "execution_count": null,
   "metadata": {},
   "outputs": [],
   "source": [
    "# Call the funtion to encode all the test images - Execute this only once\n",
    "if config[\"encode_images\"]:\n",
    "    start = time()\n",
    "    encoding_test = {}\n",
    "    for img in test_img:\n",
    "        encoding_test[img[len(images):]] = encode(img)\n",
    "        print('.', end='')\n",
    "    print(\"Time taken in seconds =\", time()-start)"
   ]
  },
  {
   "cell_type": "code",
   "execution_count": null,
   "metadata": {},
   "outputs": [],
   "source": [
    "# Save the bottleneck test features to disk\n",
    "if config[\"encode_images\"]:\n",
    "    with open(config[\"encoded_images_test\"], \"wb\") as encoded_pickle:\n",
    "        pickle.dump(encoding_test, encoded_pickle)"
   ]
  },
  {
   "cell_type": "code",
   "execution_count": null,
   "metadata": {},
   "outputs": [],
   "source": [
    "with open(config[\"encoded_images_train\"], \"rb\") as encoded_pickle:\n",
    "    encoding_train = load(encoded_pickle)\n",
    "with open(config[\"encoded_images_test\"], \"rb\") as encoded_pickle:\n",
    "    encoding_test = load(encoded_pickle)"
   ]
  },
  {
   "cell_type": "code",
   "execution_count": null,
   "metadata": {},
   "outputs": [],
   "source": [
    "train_features = load(open(config[\"encoded_images_train\"], \"rb\"))\n",
    "print('Photos: train=%d' % len(train_features))"
   ]
  },
  {
   "cell_type": "code",
   "execution_count": null,
   "metadata": {},
   "outputs": [],
   "source": [
    "# Create a list of all the training captions\n",
    "all_train_captions = []\n",
    "for key, val in train_descriptions.items():\n",
    "    for cap in val:\n",
    "        all_train_captions.append(cap)\n",
    "len(all_train_captions)"
   ]
  },
  {
   "cell_type": "code",
   "execution_count": null,
   "metadata": {},
   "outputs": [],
   "source": [
    "# Consider only words which occur at least 10 times in the corpus\n",
    "word_count_threshold = 10\n",
    "word_counts = {}\n",
    "nsents = 0\n",
    "for sent in all_train_captions:\n",
    "    nsents += 1\n",
    "    for w in sent.split(' '):\n",
    "        word_counts[w] = word_counts.get(w, 0) + 1\n",
    "\n",
    "vocab = [w for w in word_counts if word_counts[w] >= word_count_threshold]\n",
    "print('preprocessed words %d -> %d' % (len(word_counts), len(vocab)))"
   ]
  },
  {
   "cell_type": "code",
   "execution_count": null,
   "metadata": {},
   "outputs": [],
   "source": [
    "ixtoword = {}\n",
    "wordtoix = {}\n",
    "\n",
    "ix = 1\n",
    "for w in vocab:\n",
    "    wordtoix[w] = ix\n",
    "    ixtoword[ix] = w\n",
    "    ix += 1"
   ]
  },
  {
   "cell_type": "code",
   "execution_count": null,
   "metadata": {},
   "outputs": [],
   "source": [
    "vocab_size = len(ixtoword) + 1 # one for appended 0's\n",
    "vocab_size"
   ]
  },
  {
   "cell_type": "code",
   "execution_count": null,
   "metadata": {},
   "outputs": [],
   "source": [
    "# convert a dictionary of clean descriptions to a list of descriptions\n",
    "def to_lines(descriptions):\n",
    "\tall_desc = list()\n",
    "\tfor key in descriptions.keys():\n",
    "\t\t[all_desc.append(d) for d in descriptions[key]]\n",
    "\treturn all_desc\n",
    "\n",
    "# calculate the length of the description with the most words\n",
    "def max_length(descriptions):\n",
    "\tlines = to_lines(descriptions)\n",
    "\treturn max(len(d.split()) for d in lines)\n",
    "\n",
    "# determine the maximum sequence length\n",
    "max_length = max_length(train_descriptions)\n",
    "print('Description Length: %d' % max_length)"
   ]
  },
  {
   "cell_type": "code",
   "execution_count": null,
   "metadata": {},
   "outputs": [],
   "source": [
    "# data generator, intended to be used in a call to model.fit_generator()\n",
    "def data_generator(descriptions, photos, wordtoix, max_length, num_photos_per_batch):\n",
    "    X1, X2, y = list(), list(), list()\n",
    "    n=0\n",
    "    # loop for ever over images\n",
    "    while 1:\n",
    "        for key, desc_list in descriptions.items():\n",
    "            n+=1\n",
    "            # retrieve the photo feature\n",
    "            photo = photos[key+'.jpg']\n",
    "            for desc in desc_list:\n",
    "                # encode the sequence\n",
    "                seq = [wordtoix[word] for word in desc.split(' ') if word in wordtoix]\n",
    "                # split one sequence into multiple X, y pairs\n",
    "                for i in range(1, len(seq)):\n",
    "                    # split into input and output pair\n",
    "                    in_seq, out_seq = seq[:i], seq[i]\n",
    "                    # pad input sequence\n",
    "                    in_seq = pad_sequences([in_seq], maxlen=max_length)[0]\n",
    "                    # encode output sequence\n",
    "                    out_seq = to_categorical([out_seq], num_classes=vocab_size)[0]\n",
    "                    # store\n",
    "                    X1.append(photo)\n",
    "                    X2.append(in_seq)\n",
    "                    y.append(out_seq)\n",
    "            # yield the batch data\n",
    "            if n==num_photos_per_batch:\n",
    "#                 yield [[array(X1), array(X2)], array(y)]\n",
    "                yield ([array(X1), array(X2)], array(y)) \n",
    "                X1, X2, y = list(), list(), list()\n",
    "                n=0"
   ]
  },
  {
   "cell_type": "code",
   "execution_count": null,
   "metadata": {},
   "outputs": [],
   "source": [
    "# Load Glove vectors\n",
    "\n",
    "embeddings_index = {} # empty dictionary\n",
    "\n",
    "f = open(config[\"word_embedings_path\"], encoding=\"utf-8\")\n",
    "\n",
    "for line in f:\n",
    "    values = line.split()\n",
    "    word = values[0]\n",
    "    coefs = np.asarray(values[1:], dtype='float32')\n",
    "    embeddings_index[word] = coefs\n",
    "f.close()\n",
    "print('Found %s word vectors.' % len(embeddings_index))"
   ]
  },
  {
   "cell_type": "code",
   "execution_count": null,
   "metadata": {},
   "outputs": [],
   "source": [
    "# Get 200-dim dense vector for each of the 10000 words in out vocabulary\n",
    "embedding_matrix = np.zeros((vocab_size, config[\"embedings_dim\"]))\n",
    "\n",
    "for word, i in wordtoix.items():\n",
    "    #if i < max_words:\n",
    "    embedding_vector = embeddings_index.get(word)\n",
    "    if embedding_vector is not None:\n",
    "        # Words not found in the embedding index will be all zeros\n",
    "        embedding_matrix[i] = embedding_vector"
   ]
  },
  {
   "cell_type": "code",
   "execution_count": null,
   "metadata": {},
   "outputs": [],
   "source": [
    "embedding_matrix.shape"
   ]
  },
  {
   "cell_type": "code",
   "execution_count": null,
   "metadata": {},
   "outputs": [],
   "source": [
    "inputs1 = Input(shape=(2048,))\n",
    "fe1 = Dropout(0.5)(inputs1)\n",
    "fe2 = Dense(256, activation='relu')(fe1)\n",
    "inputs2 = Input(shape=(max_length,))\n",
    "se1 = Embedding(vocab_size, config[\"embedings_dim\"], mask_zero=True)(inputs2)\n",
    "se2 = Dropout(0.5)(se1)\n",
    "se3 = LSTM(256)(se2)\n",
    "decoder1 = add([fe2, se3])\n",
    "decoder2 = Dense(256, activation='relu')(decoder1)\n",
    "outputs = Dense(vocab_size, activation='softmax')(decoder2)\n",
    "model = Model(inputs=[inputs1, inputs2], outputs=outputs)"
   ]
  },
  {
   "cell_type": "code",
   "execution_count": null,
   "metadata": {},
   "outputs": [],
   "source": [
    "model.summary()"
   ]
  },
  {
   "cell_type": "code",
   "execution_count": null,
   "metadata": {},
   "outputs": [],
   "source": [
    "model.layers[2]"
   ]
  },
  {
   "cell_type": "code",
   "execution_count": null,
   "metadata": {},
   "outputs": [],
   "source": [
    "model.layers[2].set_weights([embedding_matrix])\n",
    "model.layers[2].trainable = False"
   ]
  },
  {
   "cell_type": "code",
   "execution_count": null,
   "metadata": {},
   "outputs": [],
   "source": [
    "model.compile(loss='categorical_crossentropy', optimizer='adam')"
   ]
  },
  {
   "cell_type": "code",
   "execution_count": null,
   "metadata": {},
   "outputs": [],
   "source": [
    "if config[\"train_model\"]:\n",
    "    epochs = 10\n",
    "    number_pics_per_bath = 3\n",
    "    steps = len(train_descriptions)//number_pics_per_bath"
   ]
  },
  {
   "cell_type": "code",
   "execution_count": null,
   "metadata": {},
   "outputs": [],
   "source": [
    "if config[\"train_model\"]:\n",
    "    for i in range(epochs):\n",
    "        generator = data_generator(train_descriptions, train_features, wordtoix, max_length, number_pics_per_bath)\n",
    "        model.fit_generator(generator, epochs=1, steps_per_epoch=steps, verbose=1)\n",
    "        writepath = config[\"lstm_model_save_dir\"] + 'model_' + str(i) + '.h5'\n",
    "        mode = 'a' if os.path.exists(writepath) else 'wb'\n",
    "        model.save(writepath)"
   ]
  },
  {
   "cell_type": "code",
   "execution_count": null,
   "metadata": {},
   "outputs": [],
   "source": [
    "# model.optimizer.lr = 0.0001\n",
    "if config[\"train_model\"]:\n",
    "    epochs = 10\n",
    "    number_pics_per_bath = 6\n",
    "    steps = len(train_descriptions)//number_pics_per_bath"
   ]
  },
  {
   "cell_type": "code",
   "execution_count": null,
   "metadata": {},
   "outputs": [],
   "source": [
    "if config[\"train_model\"]:\n",
    "    for i in range(epochs):\n",
    "        generator = data_generator(train_descriptions, train_features, wordtoix, max_length, number_pics_per_bath)\n",
    "        model.fit_generator(generator, epochs=1, steps_per_epoch=steps, verbose=1)\n",
    "        #model.save('./model_weights/model_' + str(i) + '.h5')"
   ]
  },
  {
   "cell_type": "code",
   "execution_count": null,
   "metadata": {},
   "outputs": [],
   "source": [
    "if config[\"train_model\"]:\n",
    "    model.save_weights(config[\"lstm_model_save_path\"])"
   ]
  },
  {
   "cell_type": "code",
   "execution_count": null,
   "metadata": {},
   "outputs": [],
   "source": [
    "model.load_weights(config[\"lstm_model_save_path\"])"
   ]
  },
  {
   "cell_type": "code",
   "execution_count": null,
   "metadata": {},
   "outputs": [],
   "source": [
    "images = config[\"images_path\"]"
   ]
  },
  {
   "cell_type": "code",
   "execution_count": null,
   "metadata": {},
   "outputs": [],
   "source": [
    "with open(config[\"encoded_images_test\"], \"rb\") as encoded_pickle:\n",
    "    encoding_test = load(encoded_pickle)"
   ]
  },
  {
   "cell_type": "code",
   "execution_count": null,
   "metadata": {},
   "outputs": [],
   "source": [
    "def greedySearch(photo):\n",
    "    in_text = 'startseq'\n",
    "    for i in range(max_length):\n",
    "        sequence = [wordtoix[w] for w in in_text.split() if w in wordtoix]\n",
    "        sequence = pad_sequences([sequence], maxlen=max_length)\n",
    "        yhat = model.predict([photo,sequence], verbose=0)\n",
    "        yhat = np.argmax(yhat)\n",
    "        word = ixtoword[yhat]\n",
    "        in_text += ' ' + word\n",
    "        if word == 'endseq':\n",
    "            break\n",
    "    final = in_text.split()\n",
    "    final = final[1:-1]\n",
    "    final = ' '.join(final)\n",
    "    return final"
   ]
  },
  {
   "cell_type": "code",
   "execution_count": null,
   "metadata": {},
   "outputs": [],
   "source": [
    "for i in range(0,5):\n",
    "    pic = list(encoding_test.keys())[i]\n",
    "    image = encoding_test[pic].reshape((1,2048))\n",
    "    x=plt.imread(images+pic)\n",
    "    plt.imshow(x)\n",
    "    plt.show()\n",
    "    print(\"Greedy:\",greedySearch(image))\n",
    "    print(descriptions[pic[:-4]])"
   ]
  },
  {
   "cell_type": "code",
   "execution_count": null,
   "metadata": {},
   "outputs": [],
   "source": [
    "#### Metrics\n",
    "##### Cider\n",
    "#function for calculating cider metric\n",
    "from sklearn.feature_extraction.text import TfidfVectorizer\n",
    "from sklearn.metrics.pairwise import cosine_similarity\n",
    "\n",
    "def cider(given_captions, prediction):\n",
    "    prediction_arr = []\n",
    "    prediction_arr.append(prediction)\n",
    "    vectorizer = TfidfVectorizer()\n",
    "    trainedV = vectorizer.fit(given_captions)\n",
    "    givenTfIdf = trainedV.transform(given_captions).toarray()\n",
    "    predTfIdf = trainedV.transform(prediction_arr).toarray()\n",
    "    partialCiders = 0\n",
    "    help_arr = []\n",
    "    \n",
    "    for c in givenTfIdf:\n",
    "        help_arr.append(c)\n",
    "        partialCiders = partialCiders + cosine_similarity(predTfIdf,help_arr)\n",
    "        help_arr = []\n",
    "        \n",
    "    return partialCiders/len(givenTfIdf)"
   ]
  },
  {
   "cell_type": "code",
   "execution_count": null,
   "metadata": {},
   "outputs": [],
   "source": [
    "#### \n",
    "import warnings; warnings.simplefilter('ignore')\n",
    "from IPython.display import clear_output\n",
    "\n",
    "#preparation of metrics lists\n",
    "bleu_train_scores = []\n",
    "meteor_train_scores = []\n",
    "cider_train_scores = []\n",
    "    \n",
    "for i in range(0,5):\n",
    "    bleu_train_scores.append([])\n",
    "    meteor_train_scores.append([])\n",
    "    cider_train_scores.append([])\n",
    "    \n",
    "    train_pics = list(encoding_train.keys())\n",
    "\n",
    "    #calculation of metrics for train images dataset\n",
    "    for j in range(0,len(train_pics)):\n",
    "        pic = train_pics[j]\n",
    "        image = encoding_train[pic].reshape((1,2048))\n",
    "\n",
    "        actual_desc_0 = descriptions[pic.rsplit( \".\", 1 )[ 0 ]][0]\n",
    "        actual_desc_1 = descriptions[pic.rsplit( \".\", 1 )[ 0 ]][1]\n",
    "        generated = greedySearch(image)\n",
    "        bleu_train_scores[i].append(\n",
    "            sentence_bleu(\n",
    "                [actual_desc_0.split(), actual_desc_1.split()],\n",
    "                generated.split())\n",
    "        )\n",
    "        meteor_train_scores[i].append(meteor_score(descriptions[pic.split('.')[0]],generated))\n",
    "        cider_train_scores[i].append(cider(descriptions[pic.split('.')[0]],generated)[0][0])\n",
    "\n",
    "        clear_output(wait=True)\n",
    "        print('train',i,j, flush=True)\n",
    "\n",
    "result_data = {}\n",
    "\n",
    "#calculate mean score based on socres list for each metric\n",
    "for i in range(0,5):\n",
    "    result_data[str(i)] = [\n",
    "        mean(bleu_train_scores[i]),\n",
    "        mean(meteor_train_scores[i]),\n",
    "        mean(cider_train_scores[i]),\n",
    "    ]\n",
    "\n",
    "result = pd.DataFrame.from_dict(\n",
    "    result_data,\n",
    "    orient='index',\n",
    "    columns=['Bleu TREN', 'Bleu TEST', 'Meteor TREN', 'Meteor TEST', 'CIDEr TREN', 'CIDEr TEST']\n",
    ")\n",
    "\n",
    "result"
   ]
  },
  {
   "cell_type": "code",
   "execution_count": null,
   "metadata": {},
   "outputs": [],
   "source": [
    " #preparation of metrics lists\n",
    "bleu_test_scores = []\n",
    "meteor_test_scores = []\n",
    "cider_test_scores = []\n",
    "    \n",
    "for i in range(0,5):\n",
    "\n",
    "    bleu_test_scores.append([])\n",
    "    meteor_test_scores.append([])\n",
    "    cider_test_scores.append([])\n",
    "    test_pics = list(encoding_test.keys())\n",
    "\n",
    "    #calculation of metrics for test images dataset\n",
    "    for j in range(0,len(test_pics)):\n",
    "        pic = test_pics[j]\n",
    "        image = encoding_test[pic].reshape((1,2048))\n",
    "\n",
    "        actual_desc_0 = descriptions[pic.rsplit( \".\", 1 )[ 0 ]][0]\n",
    "        actual_desc_1 = descriptions[pic.rsplit( \".\", 1 )[ 0 ]][1]\n",
    "        generated = greedySearch(image)\n",
    "        bleu_test_scores[i].append(\n",
    "            sentence_bleu(\n",
    "                [actual_desc_0.split(), actual_desc_1.split()],\n",
    "                generated.split())\n",
    "        )\n",
    "        meteor_test_scores[i].append(meteor_score(descriptions[pic.split('.')[0]],generated))\n",
    "        cider_test_scores[i].append(cider(descriptions[pic.split('.')[0]],generated)[0][0])\n",
    "\n",
    "        clear_output(wait=True)\n",
    "        print('test',i,j, flush=True)\n",
    "\n",
    "\n",
    "result_data = {}\n",
    "\n",
    "#calculate mean score based on socres list for each metric\n",
    "for i in range(0,5):\n",
    "    result_data[str(i)] = [\n",
    "        mean(bleu_test_scores[i]),\n",
    "        mean(meteor_test_scores[i]),\n",
    "        mean(cider_test_scores[i])\n",
    "    ]\n",
    "\n",
    "result = pd.DataFrame.from_dict(\n",
    "    result_data,\n",
    "    orient='index',\n",
    "    columns=['Bleu TREN', 'Bleu TEST', 'Meteor TREN', 'Meteor TEST', 'CIDEr TREN', 'CIDEr TEST']\n",
    ")\n",
    "\n",
    "result"
   ]
  },
  {
   "cell_type": "code",
   "execution_count": null,
   "metadata": {},
   "outputs": [],
   "source": [
    "#calculate mean score based on socres list for each metric\n",
    "from numpy import mean\n",
    "\n",
    "for i in range(0,5):\n",
    "    result_data[str(i)] = [\n",
    "        mean(bleu_test_scores[i]),\n",
    "        mean(meteor_test_scores[i]),\n",
    "        mean(cider_test_scores[i])\n",
    "    ]\n",
    "\n",
    "result = pd.DataFrame.from_dict(\n",
    "    result_data,\n",
    "    orient='index',\n",
    "    columns=['Bleu', 'Meteor TREN', 'Meteor TEST', 'CIDEr TREN', 'CIDEr TEST']\n",
    ")\n",
    "\n",
    "result"
   ]
  }
 ],
 "metadata": {
  "kernelspec": {
   "display_name": "Python 3",
   "language": "python",
   "name": "python3"
  },
  "language_info": {
   "codemirror_mode": {
    "name": "ipython",
    "version": 3
   },
   "file_extension": ".py",
   "mimetype": "text/x-python",
   "name": "python",
   "nbconvert_exporter": "python",
   "pygments_lexer": "ipython3",
   "version": "3.7.0"
  }
 },
 "nbformat": 4,
 "nbformat_minor": 2
}
