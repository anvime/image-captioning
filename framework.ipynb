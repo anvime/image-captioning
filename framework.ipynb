{
 "cells": [
  {
   "cell_type": "code",
   "execution_count": 1,
   "metadata": {},
   "outputs": [],
   "source": [
    "#### Rama projektowa - Opisywanie obrazów z wykorzystaniem głębokiego uczenia\n",
    "#### autorzy: Anna Konieczna, Mateusz Ostrowski"
   ]
  },
  {
   "cell_type": "markdown",
   "metadata": {},
   "source": [
    "### Rama projektowa\n",
    "Tutorial: https://towardsdatascience.com/image-captioning-with-keras-teaching-computers-to-describe-pictures-c88a46a311b8 <br>\n",
    "Zbiór danych: <br>\n",
    "#### Opis:  <br>\n"
   ]
  },
  {
   "cell_type": "code",
   "execution_count": 2,
   "metadata": {},
   "outputs": [],
   "source": [
    "#### Config\n",
    "config = { \"images_path\": \"../Flickr8k_Dataset/\",\n",
    "           \"train_images_path\": \"../Flickr8k_text/Flickr_8k.trainImages.txt\", # file conatains the names of images to be used in train data\n",
    "           \"test_images_path\": \"../Flickr8k_text/Flickr_8k.testImages.txt\",\n",
    "           \"train_path\": \"../Flickr8k_text/Flickr_8k.trainImages.txt\", \n",
    "           \"token_path\": \"../Flickr8k_text/Flickr8k.token.txt\",\n",
    "           \"word_embedings_path\": \"../glove/glove.6B.200d.txt\",\n",
    "           \"embedings_dim\": 200, # Polish - 100\n",
    "           \"train_model\": True, # True if you intend to train the model,\n",
    "           \"save_model\": True,\n",
    "           \"encode_images\": False,\n",
    "           \"pretrained_model_path\": \"\",\n",
    "           \"encoded_images_test\": \"../Pickle/encoded_test_images.pkl\",\n",
    "           \"encoded_images_train\": \"../Pickle/encoded_train_images.pkl\",\n",
    "           \"report_path\": \"\",\n",
    "           \"preprocessed_descriptions_save_path\": \"descriptions.txt\",\n",
    "           \"use_lemma\": False,\n",
    "           \"spacy_lemma_model\": \"pl_spacy_model\",\n",
    "           \"lstm_model_save_dir\": \"../model_weights/\",\n",
    "           \"lstm_model_save_path\": \"../model_weights/model_dlr_ds_lstm.h5\"}"
   ]
  },
  {
   "cell_type": "code",
   "execution_count": 3,
   "metadata": {},
   "outputs": [],
   "source": [
    "import numpy as np\n",
    "from numpy import array\n",
    "import pandas as pd\n",
    "import matplotlib.pyplot as plt\n",
    "%matplotlib inline\n",
    "import string\n",
    "import os\n",
    "from PIL import Image\n",
    "import glob\n",
    "from pickle import dump, load\n",
    "from time import time\n",
    "from keras.preprocessing import sequence\n",
    "from keras.models import Sequential\n",
    "from keras.layers import LSTM, Embedding, TimeDistributed, Dense, RepeatVector,\\\n",
    "                         Activation, Flatten, Reshape, concatenate, Dropout, BatchNormalization\n",
    "from keras.optimizers import Adam, RMSprop\n",
    "from keras.layers.wrappers import Bidirectional\n",
    "from keras.layers.merge import add\n",
    "from keras.applications.inception_v3 import InceptionV3\n",
    "from keras.preprocessing import image\n",
    "from keras.models import Model\n",
    "from keras import Input, layers\n",
    "from keras import optimizers\n",
    "from keras.applications.inception_v3 import preprocess_input\n",
    "from keras.preprocessing.text import Tokenizer\n",
    "from keras.preprocessing.sequence import pad_sequences\n",
    "from keras.utils import to_categorical\n",
    "from nltk.translate.meteor_score import meteor_score\n",
    "from nltk.translate.bleu_score import sentence_bleu, corpus_bleu\n",
    "from keras import callbacks\n",
    "from keras import optimizers"
   ]
  },
  {
   "cell_type": "code",
   "execution_count": 4,
   "metadata": {},
   "outputs": [
    {
     "name": "stdout",
     "output_type": "stream",
     "text": [
      "1000268201_693b08cb0e.jpg#0\tA child in a pink dress is climbing up a set of stairs in an entry way .\n",
      "1000268201_693b08cb0e.jpg#1\tA girl going into a wooden building .\n",
      "1000268201_693b08cb0e.jpg#2\tA little girl climbing into a wooden playhouse .\n",
      "1000268201_693b08cb0e.jpg#3\tA little girl climbing the s\n"
     ]
    }
   ],
   "source": [
    "# Load the description set\n",
    "\n",
    "def load_doc(filename):\n",
    "\tfile = open(filename, 'r')\n",
    "\ttext = file.read()\n",
    "\tfile.close()\n",
    "\treturn text\n",
    "\n",
    "filename = config[\"token_path\"]\n",
    "# załaduj opisy\n",
    "doc = load_doc(filename)\n",
    "print(doc[:300])"
   ]
  },
  {
   "cell_type": "code",
   "execution_count": 5,
   "metadata": {},
   "outputs": [
    {
     "name": "stdout",
     "output_type": "stream",
     "text": [
      "Loaded: 8092 \n"
     ]
    }
   ],
   "source": [
    "# Load the descriptions to dict structure\n",
    "\n",
    "def load_descriptions(doc):\n",
    "\tmapping = dict()\n",
    "\tfor line in doc.split('\\n'):\n",
    "\t\ttokens = line.split()\n",
    "\t\tif len(line) < 2:\n",
    "\t\t\tcontinue\n",
    "\t\t# take the first token as the image id, the rest as the description\n",
    "\t\timage_id, image_desc = tokens[0], tokens[1:]\n",
    "\t\t# extract filename from image id\n",
    "\t\timage_id = image_id.split('.')[0]\n",
    "\t\t# convert description tokens back to string\n",
    "\t\timage_desc = ' '.join(image_desc)\n",
    "\t\t# create the list if needed\n",
    "\t\tif image_id not in mapping:\n",
    "\t\t\tmapping[image_id] = list()\n",
    "\t\t# store description\n",
    "\t\tmapping[image_id].append(image_desc)\n",
    "\treturn mapping\n",
    "\n",
    "# parse descriptions\n",
    "descriptions = load_descriptions(doc)\n",
    "print('Loaded: %d ' % len(descriptions))"
   ]
  },
  {
   "cell_type": "code",
   "execution_count": 6,
   "metadata": {},
   "outputs": [],
   "source": [
    "if config[\"use_lemma\"]:\n",
    "    import spacy\n",
    "    nlp = spacy.load('pl_spacy_model')\n",
    "\n",
    "def clean_descriptions(descriptions):\n",
    "  # prepare translation table for removing punctuation\n",
    "  table = str.maketrans('', '', string.punctuation)\n",
    "  for key, desc_list in descriptions.items():\n",
    "    for i in range(len(desc_list)):\n",
    "      desc = desc_list[i]\n",
    "      if config[\"use_lemma\"]:\n",
    "          doc = nlp(desc)\n",
    "      # tokenize\n",
    "      desc = desc.split()\n",
    "      # convert to lower case\n",
    "      desc = [word.lower() for word in desc]\n",
    "# Lematyzacja\n",
    "#### spacy model from here: http://zil.ipipan.waw.pl/SpacyPL?action=AttachFile&do=view&target=pl_spacy_model-0.1.0.tar.gz\n",
    "#### spacy dokumentacja - https://spacy.io/usage\n",
    "      if config[\"use_lemma\"]:\n",
    "          desc = [word.lemma_ for word in doc]\n",
    "      # remove punctuation from each token\n",
    "      desc = [w.translate(table) for w in desc]\n",
    "      # remove tokens with numbers in them\n",
    "      desc = [word for word in desc if word.isalpha()]\n",
    "      # store as string\n",
    "      desc_list[i] =  ' '.join(desc)\n",
    "\n",
    "# clean descriptions\n",
    "clean_descriptions(descriptions)"
   ]
  },
  {
   "cell_type": "code",
   "execution_count": 7,
   "metadata": {},
   "outputs": [
    {
     "name": "stdout",
     "output_type": "stream",
     "text": [
      "Original Vocabulary Size: 8775\n"
     ]
    }
   ],
   "source": [
    "# convert the loaded descriptions into a vocabulary of words\n",
    "def to_vocabulary(descriptions):\n",
    "\t# build a list of all description strings\n",
    "\tall_desc = set()\n",
    "\tfor key in descriptions.keys():\n",
    "\t\t[all_desc.update(d.split()) for d in descriptions[key]]\n",
    "\treturn all_desc\n",
    "\n",
    "# summarize vocabulary\n",
    "vocabulary = to_vocabulary(descriptions)\n",
    "print('Original Vocabulary Size: %d' % len(vocabulary))"
   ]
  },
  {
   "cell_type": "code",
   "execution_count": 8,
   "metadata": {},
   "outputs": [],
   "source": [
    "# save descriptions to file, one per line\n",
    "def save_descriptions(descriptions, filename):\n",
    "\tlines = list()\n",
    "\tfor key, desc_list in descriptions.items():\n",
    "\t\tfor desc in desc_list:\n",
    "\t\t\tlines.append(key + ' ' + desc)\n",
    "\tdata = '\\n'.join(lines)\n",
    "\tfile = open(filename, 'w')\n",
    "\tfile.write(data)\n",
    "\tfile.close()\n",
    "\n",
    "save_descriptions(descriptions, config[\"preprocessed_descriptions_save_path\"])"
   ]
  },
  {
   "cell_type": "code",
   "execution_count": 9,
   "metadata": {},
   "outputs": [
    {
     "name": "stdout",
     "output_type": "stream",
     "text": [
      "Dataset: 6000\n"
     ]
    }
   ],
   "source": [
    "# load a pre-defined list of photo identifiers\n",
    "def load_set(filename):\n",
    "\tdoc = load_doc(filename)\n",
    "\tdataset = list()\n",
    "\t# process line by line\n",
    "\tfor line in doc.split('\\n'):\n",
    "\t\t# skip empty lines\n",
    "\t\tif len(line) < 1:\n",
    "\t\t\tcontinue\n",
    "\t\t# get the image identifier\n",
    "\t\tidentifier = line.split('.')[0]\n",
    "\t\tdataset.append(identifier)\n",
    "\treturn set(dataset)\n",
    "\n",
    "# load training dataset (6K)\n",
    "filename = config[\"train_path\"]\n",
    "train = load_set(filename)\n",
    "print('Dataset: %d' % len(train))"
   ]
  },
  {
   "cell_type": "code",
   "execution_count": 10,
   "metadata": {},
   "outputs": [],
   "source": [
    "# Below path contains all the images\n",
    "images = config[\"images_path\"]\n",
    "# Create a list of all image names in the directory\n",
    "img = glob.glob(images + '*.jpg')"
   ]
  },
  {
   "cell_type": "code",
   "execution_count": 11,
   "metadata": {},
   "outputs": [],
   "source": [
    "# Read the train image names in a set\n",
    "train_images = set(open(config[\"train_images_path\"], 'r').read().strip().split('\\n'))\n",
    "\n",
    "# Create a list of all the training images with their full path names\n",
    "train_img = []\n",
    "\n",
    "for i in img: # img is list of full path names of all images\n",
    "    if i[len(images):] in train_images: # Check if the image belongs to training set\n",
    "        train_img.append(i) # Add it to the list of train images"
   ]
  },
  {
   "cell_type": "code",
   "execution_count": 12,
   "metadata": {},
   "outputs": [],
   "source": [
    "# Below file conatains the names of images to be used in test data\n",
    "test_images_file = config[\"test_images_path\"]\n",
    "# Read the validation image names in a set# Read the test image names in a set\n",
    "test_images = set(open(test_images_file, 'r').read().strip().split('\\n'))\n",
    "\n",
    "# Create a list of all the test images with their full path names\n",
    "test_img = []\n",
    "\n",
    "for i in img: # img is list of full path names of all images\n",
    "    if i[len(images):] in test_images: # Check if the image belongs to test set\n",
    "        test_img.append(i) # Add it to the list of test images"
   ]
  },
  {
   "cell_type": "code",
   "execution_count": 13,
   "metadata": {},
   "outputs": [
    {
     "name": "stdout",
     "output_type": "stream",
     "text": [
      "Descriptions: train=6000\n"
     ]
    }
   ],
   "source": [
    "# load clean descriptions into memory\n",
    "def load_clean_descriptions(filename, dataset):\n",
    "\t# load document\n",
    "\tdoc = load_doc(filename)\n",
    "\tdescriptions = dict()\n",
    "\tfor line in doc.split('\\n'):\n",
    "\t\t# split line by white space\n",
    "\t\ttokens = line.split()\n",
    "\t\t# split id from description\n",
    "\t\timage_id, image_desc = tokens[0], tokens[1:]\n",
    "\t\t# skip images not in the set\n",
    "\t\tif image_id in dataset:\n",
    "\t\t\t# create list\n",
    "\t\t\tif image_id not in descriptions:\n",
    "\t\t\t\tdescriptions[image_id] = list()\n",
    "\t\t\t# wrap description in tokens\n",
    "\t\t\tdesc = 'startseq ' + ' '.join(image_desc) + ' endseq'\n",
    "\t\t\t# store\n",
    "\t\t\tdescriptions[image_id].append(desc)\n",
    "\treturn descriptions\n",
    "\n",
    "# descriptions\n",
    "train_descriptions = load_clean_descriptions(config[\"preprocessed_descriptions_save_path\"], train)\n",
    "print('Descriptions: train=%d' % len(train_descriptions))"
   ]
  },
  {
   "cell_type": "code",
   "execution_count": 14,
   "metadata": {},
   "outputs": [],
   "source": [
    "def preprocess(image_path):\n",
    "    # Convert all the images to size 299x299 as expected by the inception v3 model\n",
    "    img = image.load_img(image_path, target_size=(299, 299))\n",
    "    # Convert PIL image to numpy array of 3-dimensions\n",
    "    x = image.img_to_array(img)\n",
    "    # Add one more dimension\n",
    "    x = np.expand_dims(x, axis=0)\n",
    "    # preprocess the images using preprocess_input() from inception module\n",
    "    x = preprocess_input(x)\n",
    "    return x"
   ]
  },
  {
   "cell_type": "code",
   "execution_count": 15,
   "metadata": {},
   "outputs": [],
   "source": [
    "# Load the inception v3 model\n",
    "model = InceptionV3(weights='imagenet')"
   ]
  },
  {
   "cell_type": "code",
   "execution_count": 16,
   "metadata": {},
   "outputs": [],
   "source": [
    "# Create a new model, by removing the last layer (output layer) from the inception v3\n",
    "model_new = Model(model.input, model.layers[-2].output)"
   ]
  },
  {
   "cell_type": "code",
   "execution_count": 17,
   "metadata": {},
   "outputs": [],
   "source": [
    "# Function to encode a given image into a vector of size (2048, )\n",
    "def encode(image):\n",
    "    image = preprocess(image) # preprocess the image\n",
    "    fea_vec = model_new.predict(image) # Get the encoding vector for the image\n",
    "    fea_vec = np.reshape(fea_vec, fea_vec.shape[1]) # reshape from (1, 2048) to (2048, )\n",
    "    return fea_vec"
   ]
  },
  {
   "cell_type": "code",
   "execution_count": 18,
   "metadata": {},
   "outputs": [],
   "source": [
    "# Call the funtion to encode all the train images\n",
    "# This will take a while on CPU - Execute this only once\n",
    "if config[\"encode_images\"]:\n",
    "    start = time()\n",
    "    encoding_train = {}\n",
    "    for img in train_img:\n",
    "        encoding_train[img[len(images):]] = encode(img)\n",
    "        print('.', end='')\n",
    "    print(\"Time taken in seconds =\", time()-start)"
   ]
  },
  {
   "cell_type": "code",
   "execution_count": 19,
   "metadata": {},
   "outputs": [],
   "source": [
    "import os\n",
    "import pickle\n",
    "\n",
    "if config[\"encode_images\"]:\n",
    "    mode = 'a' if os.path.exists(config[\"encoded_images_train\"]) else 'wb'\n",
    "\n",
    "    # Save the bottleneck train features to disk\n",
    "    with open(config[\"encoded_images_train\"], \"wb\") as encoded_pickle:\n",
    "        pickle.dump(encoding_train, encoded_pickle)"
   ]
  },
  {
   "cell_type": "code",
   "execution_count": 20,
   "metadata": {},
   "outputs": [],
   "source": [
    "# Call the funtion to encode all the test images - Execute this only once\n",
    "if config[\"encode_images\"]:\n",
    "    start = time()\n",
    "    encoding_test = {}\n",
    "    for img in test_img:\n",
    "        encoding_test[img[len(images):]] = encode(img)\n",
    "        print('.', end='')\n",
    "    print(\"Time taken in seconds =\", time()-start)"
   ]
  },
  {
   "cell_type": "code",
   "execution_count": 21,
   "metadata": {},
   "outputs": [],
   "source": [
    "# Save the bottleneck test features to disk\n",
    "if config[\"encode_images\"]:\n",
    "    with open(config[\"encoded_images_test\"], \"wb\") as encoded_pickle:\n",
    "        pickle.dump(encoding_test, encoded_pickle)"
   ]
  },
  {
   "cell_type": "code",
   "execution_count": 22,
   "metadata": {},
   "outputs": [],
   "source": [
    "with open(config[\"encoded_images_train\"], \"rb\") as encoded_pickle:\n",
    "    encoding_train = load(encoded_pickle)\n",
    "with open(config[\"encoded_images_test\"], \"rb\") as encoded_pickle:\n",
    "    encoding_test = load(encoded_pickle)"
   ]
  },
  {
   "cell_type": "code",
   "execution_count": 23,
   "metadata": {},
   "outputs": [
    {
     "name": "stdout",
     "output_type": "stream",
     "text": [
      "Photos: train=6000\n"
     ]
    }
   ],
   "source": [
    "train_features = load(open(config[\"encoded_images_train\"], \"rb\"))\n",
    "print('Photos: train=%d' % len(train_features))"
   ]
  },
  {
   "cell_type": "code",
   "execution_count": 24,
   "metadata": {},
   "outputs": [
    {
     "data": {
      "text/plain": [
       "30000"
      ]
     },
     "execution_count": 24,
     "metadata": {},
     "output_type": "execute_result"
    }
   ],
   "source": [
    "# Create a list of all the training captions\n",
    "all_train_captions = []\n",
    "for key, val in train_descriptions.items():\n",
    "    for cap in val:\n",
    "        all_train_captions.append(cap)\n",
    "len(all_train_captions)"
   ]
  },
  {
   "cell_type": "code",
   "execution_count": 25,
   "metadata": {},
   "outputs": [
    {
     "name": "stdout",
     "output_type": "stream",
     "text": [
      "preprocessed words 7589 -> 1654\n"
     ]
    }
   ],
   "source": [
    "# Consider only words which occur at least 10 times in the corpus\n",
    "word_count_threshold = 10\n",
    "word_counts = {}\n",
    "nsents = 0\n",
    "for sent in all_train_captions:\n",
    "    nsents += 1\n",
    "    for w in sent.split(' '):\n",
    "        word_counts[w] = word_counts.get(w, 0) + 1\n",
    "\n",
    "vocab = [w for w in word_counts if word_counts[w] >= word_count_threshold]\n",
    "print('preprocessed words %d -> %d' % (len(word_counts), len(vocab)))"
   ]
  },
  {
   "cell_type": "code",
   "execution_count": 26,
   "metadata": {},
   "outputs": [],
   "source": [
    "ixtoword = {}\n",
    "wordtoix = {}\n",
    "\n",
    "ix = 1\n",
    "for w in vocab:\n",
    "    wordtoix[w] = ix\n",
    "    ixtoword[ix] = w\n",
    "    ix += 1"
   ]
  },
  {
   "cell_type": "code",
   "execution_count": 27,
   "metadata": {},
   "outputs": [
    {
     "data": {
      "text/plain": [
       "1655"
      ]
     },
     "execution_count": 27,
     "metadata": {},
     "output_type": "execute_result"
    }
   ],
   "source": [
    "vocab_size = len(ixtoword) + 1 # one for appended 0's\n",
    "vocab_size"
   ]
  },
  {
   "cell_type": "code",
   "execution_count": 28,
   "metadata": {},
   "outputs": [
    {
     "name": "stdout",
     "output_type": "stream",
     "text": [
      "Description Length: 37\n"
     ]
    }
   ],
   "source": [
    "# convert a dictionary of clean descriptions to a list of descriptions\n",
    "def to_lines(descriptions):\n",
    "\tall_desc = list()\n",
    "\tfor key in descriptions.keys():\n",
    "\t\t[all_desc.append(d) for d in descriptions[key]]\n",
    "\treturn all_desc\n",
    "\n",
    "# calculate the length of the description with the most words\n",
    "def max_length(descriptions):\n",
    "\tlines = to_lines(descriptions)\n",
    "\treturn max(len(d.split()) for d in lines)\n",
    "\n",
    "# determine the maximum sequence length\n",
    "max_length = max_length(train_descriptions)\n",
    "print('Description Length: %d' % max_length)"
   ]
  },
  {
   "cell_type": "code",
   "execution_count": 29,
   "metadata": {},
   "outputs": [],
   "source": [
    "# data generator, intended to be used in a call to model.fit_generator()\n",
    "def data_generator(descriptions, photos, wordtoix, max_length, num_photos_per_batch):\n",
    "    X1, X2, y = list(), list(), list()\n",
    "    n=0\n",
    "    # loop for ever over images\n",
    "    while 1:\n",
    "        for key, desc_list in descriptions.items():\n",
    "            n+=1\n",
    "            # retrieve the photo feature\n",
    "            photo = photos[key+'.jpg']\n",
    "            for desc in desc_list:\n",
    "                # encode the sequence\n",
    "                seq = [wordtoix[word] for word in desc.split(' ') if word in wordtoix]\n",
    "                # split one sequence into multiple X, y pairs\n",
    "                for i in range(1, len(seq)):\n",
    "                    # split into input and output pair\n",
    "                    in_seq, out_seq = seq[:i], seq[i]\n",
    "                    # pad input sequence\n",
    "                    in_seq = pad_sequences([in_seq], maxlen=max_length)[0]\n",
    "                    # encode output sequence\n",
    "                    out_seq = to_categorical([out_seq], num_classes=vocab_size)[0]\n",
    "                    # store\n",
    "                    X1.append(photo)\n",
    "                    X2.append(in_seq)\n",
    "                    y.append(out_seq)\n",
    "            # yield the batch data\n",
    "            if n==num_photos_per_batch:\n",
    "#                 yield [[array(X1), array(X2)], array(y)]\n",
    "                yield ([array(X1), array(X2)], array(y)) \n",
    "                X1, X2, y = list(), list(), list()\n",
    "                n=0"
   ]
  },
  {
   "cell_type": "code",
   "execution_count": 30,
   "metadata": {},
   "outputs": [
    {
     "name": "stdout",
     "output_type": "stream",
     "text": [
      "Found 400000 word vectors.\n"
     ]
    }
   ],
   "source": [
    "# Load Glove vectors\n",
    "\n",
    "embeddings_index = {} # empty dictionary\n",
    "\n",
    "f = open(config[\"word_embedings_path\"], encoding=\"utf-8\")\n",
    "\n",
    "for line in f:\n",
    "    values = line.split()\n",
    "    word = values[0]\n",
    "    coefs = np.asarray(values[1:], dtype='float32')\n",
    "    embeddings_index[word] = coefs\n",
    "f.close()\n",
    "print('Found %s word vectors.' % len(embeddings_index))"
   ]
  },
  {
   "cell_type": "code",
   "execution_count": 31,
   "metadata": {},
   "outputs": [],
   "source": [
    "# Get 200-dim dense vector for each of the 10000 words in out vocabulary\n",
    "embedding_matrix = np.zeros((vocab_size, config[\"embedings_dim\"]))\n",
    "\n",
    "for word, i in wordtoix.items():\n",
    "    #if i < max_words:\n",
    "    embedding_vector = embeddings_index.get(word)\n",
    "    if embedding_vector is not None:\n",
    "        # Words not found in the embedding index will be all zeros\n",
    "        embedding_matrix[i] = embedding_vector"
   ]
  },
  {
   "cell_type": "code",
   "execution_count": 32,
   "metadata": {},
   "outputs": [
    {
     "data": {
      "text/plain": [
       "(1655, 200)"
      ]
     },
     "execution_count": 32,
     "metadata": {},
     "output_type": "execute_result"
    }
   ],
   "source": [
    "embedding_matrix.shape"
   ]
  },
  {
   "cell_type": "code",
   "execution_count": 33,
   "metadata": {},
   "outputs": [],
   "source": [
    "# Deep stacked LSTM\n",
    "inputs1 = Input(shape=(2048,))\n",
    "fe1 = Dropout(0.5)(inputs1)\n",
    "fe2 = Dense(256, activation='relu')(fe1)\n",
    "inputs2 = Input(shape=(max_length,))\n",
    "se1 = Embedding(vocab_size, config[\"embedings_dim\"], mask_zero=True)(inputs2)\n",
    "se2 = Dropout(0.5)(se1)\n",
    "se3 = LSTM(256, return_sequences=True, input_shape=(2048,))(se2)\n",
    "se4 = LSTM(256, return_sequences=True)(se3)\n",
    "se5 = LSTM(256)(se4)\n",
    "decoder1 = add([fe2, se5])\n",
    "decoder2 = Dense(256, activation='relu')(decoder1)\n",
    "outputs = Dense(vocab_size, activation='softmax')(decoder2)\n",
    "model = Model(inputs=[inputs1, inputs2], outputs=outputs)"
   ]
  },
  {
   "cell_type": "code",
   "execution_count": 34,
   "metadata": {},
   "outputs": [],
   "source": [
    "# inputs1 = Input(shape=(2048,))\n",
    "# fe1 = Dropout(0.5)(inputs1)\n",
    "# fe2 = Dense(256, activation='relu')(fe1)\n",
    "# inputs2 = Input(shape=(max_length,))\n",
    "# se1 = Embedding(vocab_size, config[\"embedings_dim\"], mask_zero=True)(inputs2)\n",
    "# se2 = Dropout(0.5)(se1)\n",
    "# se3 = LSTM(256)(se2)\n",
    "\n",
    "# decoder1 = add([fe2, se3])\n",
    "# decoder2 = Dense(256, activation='relu')(decoder1)\n",
    "# outputs = Dense(vocab_size, activation='softmax')(decoder2)\n",
    "# model = Model(inputs=[inputs1, inputs2], outputs=outputs)"
   ]
  },
  {
   "cell_type": "code",
   "execution_count": 35,
   "metadata": {},
   "outputs": [
    {
     "name": "stdout",
     "output_type": "stream",
     "text": [
      "Model: \"model_1\"\n",
      "__________________________________________________________________________________________________\n",
      "Layer (type)                    Output Shape         Param #     Connected to                     \n",
      "==================================================================================================\n",
      "input_3 (InputLayer)            [(None, 37)]         0                                            \n",
      "__________________________________________________________________________________________________\n",
      "embedding (Embedding)           (None, 37, 200)      331000      input_3[0][0]                    \n",
      "__________________________________________________________________________________________________\n",
      "dropout_1 (Dropout)             (None, 37, 200)      0           embedding[0][0]                  \n",
      "__________________________________________________________________________________________________\n",
      "input_2 (InputLayer)            [(None, 2048)]       0                                            \n",
      "__________________________________________________________________________________________________\n",
      "lstm (LSTM)                     (None, 37, 256)      467968      dropout_1[0][0]                  \n",
      "__________________________________________________________________________________________________\n",
      "dropout (Dropout)               (None, 2048)         0           input_2[0][0]                    \n",
      "__________________________________________________________________________________________________\n",
      "lstm_1 (LSTM)                   (None, 37, 256)      525312      lstm[0][0]                       \n",
      "__________________________________________________________________________________________________\n",
      "dense (Dense)                   (None, 256)          524544      dropout[0][0]                    \n",
      "__________________________________________________________________________________________________\n",
      "lstm_2 (LSTM)                   (None, 256)          525312      lstm_1[0][0]                     \n",
      "__________________________________________________________________________________________________\n",
      "add (Add)                       (None, 256)          0           dense[0][0]                      \n",
      "                                                                 lstm_2[0][0]                     \n",
      "__________________________________________________________________________________________________\n",
      "dense_1 (Dense)                 (None, 256)          65792       add[0][0]                        \n",
      "__________________________________________________________________________________________________\n",
      "dense_2 (Dense)                 (None, 1655)         425335      dense_1[0][0]                    \n",
      "==================================================================================================\n",
      "Total params: 2,865,263\n",
      "Trainable params: 2,865,263\n",
      "Non-trainable params: 0\n",
      "__________________________________________________________________________________________________\n"
     ]
    }
   ],
   "source": [
    "model.summary()"
   ]
  },
  {
   "cell_type": "code",
   "execution_count": 36,
   "metadata": {},
   "outputs": [
    {
     "data": {
      "text/plain": [
       "<tensorflow.python.keras.layers.embeddings.Embedding at 0x7fdfac030dc0>"
      ]
     },
     "execution_count": 36,
     "metadata": {},
     "output_type": "execute_result"
    }
   ],
   "source": [
    "model.layers[1]"
   ]
  },
  {
   "cell_type": "code",
   "execution_count": 37,
   "metadata": {},
   "outputs": [],
   "source": [
    "model.layers[1].set_weights([embedding_matrix])\n",
    "model.layers[1].trainable = False"
   ]
  },
  {
   "cell_type": "code",
   "execution_count": 38,
   "metadata": {},
   "outputs": [],
   "source": [
    "opt = optimizers.Adam(lr=0.001, beta_1=0.9, beta_2=0.999, epsilon=1e-08, decay=0.0)\n",
    "model.compile(loss='categorical_crossentropy', optimizer=opt)"
   ]
  },
  {
   "cell_type": "code",
   "execution_count": 39,
   "metadata": {},
   "outputs": [],
   "source": [
    "if config[\"train_model\"]:\n",
    "    # model.optimizer.lr = 0.001\n",
    "    epochs = 100\n",
    "    number_pics_per_bath = 3\n",
    "    steps = len(train_descriptions)//number_pics_per_bath"
   ]
  },
  {
   "cell_type": "code",
   "execution_count": null,
   "metadata": {},
   "outputs": [
    {
     "name": "stdout",
     "output_type": "stream",
     "text": [
      "WARNING:tensorflow:From <ipython-input-40-2ff6483451e2>:5: Model.fit_generator (from tensorflow.python.keras.engine.training) is deprecated and will be removed in a future version.\n",
      "Instructions for updating:\n",
      "Please use Model.fit, which supports generators.\n",
      "Epoch 1/100\n",
      "2000/2000 [==============================] - 725s 362ms/step - loss: 3.8138\n",
      "Epoch 2/100\n",
      "2000/2000 [==============================] - 722s 361ms/step - loss: 3.0801\n",
      "Epoch 3/100\n",
      "2000/2000 [==============================] - 721s 360ms/step - loss: 2.8449\n",
      "Epoch 4/100\n",
      "2000/2000 [==============================] - 720s 360ms/step - loss: 2.7018\n",
      "Epoch 5/100\n",
      "2000/2000 [==============================] - 720s 360ms/step - loss: 2.6017\n",
      "Epoch 6/100\n",
      "2000/2000 [==============================] - 720s 360ms/step - loss: 2.5182\n",
      "Epoch 7/100\n",
      "2000/2000 [==============================] - 720s 360ms/step - loss: 2.4509\n",
      "Epoch 8/100\n",
      "2000/2000 [==============================] - 720s 360ms/step - loss: 2.3900\n",
      "Epoch 9/100\n",
      "2000/2000 [==============================] - 720s 360ms/step - loss: 2.3373\n",
      "Epoch 10/100\n",
      "2000/2000 [==============================] - 720s 360ms/step - loss: 2.2877\n",
      "Epoch 11/100\n",
      "2000/2000 [==============================] - 724s 362ms/step - loss: 2.2429\n",
      "Epoch 12/100\n",
      "2000/2000 [==============================] - 734s 367ms/step - loss: 2.2013\n",
      "Epoch 13/100\n",
      "2000/2000 [==============================] - 723s 362ms/step - loss: 2.1604\n",
      "Epoch 14/100\n",
      "2000/2000 [==============================] - 732s 366ms/step - loss: 2.1258\n",
      "Epoch 15/100\n",
      "2000/2000 [==============================] - 723s 361ms/step - loss: 2.0891\n",
      "Epoch 16/100\n",
      "2000/2000 [==============================] - 723s 361ms/step - loss: 2.0585\n",
      "Epoch 17/100\n",
      "2000/2000 [==============================] - 727s 363ms/step - loss: 2.0275\n",
      "Epoch 18/100\n",
      "2000/2000 [==============================] - 723s 362ms/step - loss: 1.9981\n",
      "Epoch 19/100\n",
      "2000/2000 [==============================] - 723s 362ms/step - loss: 1.9737\n",
      "Epoch 20/100\n",
      "2000/2000 [==============================] - 723s 361ms/step - loss: 1.9462\n",
      "Epoch 21/100\n",
      "2000/2000 [==============================] - 723s 361ms/step - loss: 1.9225\n",
      "Epoch 22/100\n",
      "2000/2000 [==============================] - 723s 361ms/step - loss: 1.8999\n",
      "Epoch 23/100\n",
      "2000/2000 [==============================] - 723s 361ms/step - loss: 1.8775\n",
      "Epoch 24/100\n",
      "2000/2000 [==============================] - 722s 361ms/step - loss: 1.8579\n",
      "Epoch 25/100\n",
      "2000/2000 [==============================] - 730s 365ms/step - loss: 1.8406\n",
      "Epoch 26/100\n",
      "2000/2000 [==============================] - 721s 361ms/step - loss: 1.8213\n",
      "Epoch 27/100\n",
      "2000/2000 [==============================] - 720s 360ms/step - loss: 1.8006\n",
      "Epoch 28/100\n",
      "2000/2000 [==============================] - 720s 360ms/step - loss: 1.7860\n",
      "Epoch 29/100\n",
      "2000/2000 [==============================] - 721s 360ms/step - loss: 1.7709\n",
      "Epoch 30/100\n",
      "2000/2000 [==============================] - 721s 360ms/step - loss: 1.7535\n",
      "Epoch 31/100\n",
      "2000/2000 [==============================] - 721s 360ms/step - loss: 1.7431\n",
      "Epoch 32/100\n",
      "2000/2000 [==============================] - 721s 360ms/step - loss: 1.7305\n",
      "Epoch 33/100\n",
      "2000/2000 [==============================] - 721s 360ms/step - loss: 1.7158\n",
      "Epoch 34/100\n",
      "2000/2000 [==============================] - 721s 360ms/step - loss: 1.7033\n",
      "Epoch 35/100\n",
      "2000/2000 [==============================] - 720s 360ms/step - loss: 1.6929\n",
      "Epoch 36/100\n",
      "2000/2000 [==============================] - 720s 360ms/step - loss: 1.6803\n",
      "Epoch 37/100\n",
      "2000/2000 [==============================] - 720s 360ms/step - loss: 1.6688\n",
      "Epoch 38/100\n",
      "2000/2000 [==============================] - 721s 360ms/step - loss: 1.6630\n",
      "Epoch 39/100\n",
      "2000/2000 [==============================] - 720s 360ms/step - loss: 1.6506\n",
      "Epoch 40/100\n",
      "2000/2000 [==============================] - 720s 360ms/step - loss: 1.6431\n",
      "Epoch 41/100\n",
      "2000/2000 [==============================] - 720s 360ms/step - loss: 1.6321\n",
      "Epoch 42/100\n",
      "2000/2000 [==============================] - 720s 360ms/step - loss: 1.6237\n",
      "Epoch 43/100\n",
      "2000/2000 [==============================] - 720s 360ms/step - loss: 1.6175\n",
      "Epoch 44/100\n",
      "2000/2000 [==============================] - 720s 360ms/step - loss: 1.6085\n",
      "Epoch 45/100\n",
      "2000/2000 [==============================] - 720s 360ms/step - loss: 1.5986\n",
      "Epoch 46/100\n",
      "2000/2000 [==============================] - 720s 360ms/step - loss: 1.5915\n",
      "Epoch 47/100\n",
      "2000/2000 [==============================] - 720s 360ms/step - loss: 1.5846\n",
      "Epoch 48/100\n",
      "2000/2000 [==============================] - 721s 360ms/step - loss: 1.5781\n",
      "Epoch 49/100\n",
      "2000/2000 [==============================] - 720s 360ms/step - loss: 1.5740\n",
      "Epoch 50/100\n",
      "2000/2000 [==============================] - 720s 360ms/step - loss: 1.5626\n",
      "Epoch 51/100\n",
      "2000/2000 [==============================] - 720s 360ms/step - loss: 1.5604\n",
      "Epoch 52/100\n",
      "2000/2000 [==============================] - 720s 360ms/step - loss: 1.5561\n",
      "Epoch 53/100\n",
      "2000/2000 [==============================] - 720s 360ms/step - loss: 1.5472\n",
      "Epoch 54/100\n",
      "2000/2000 [==============================] - 720s 360ms/step - loss: 1.5450\n",
      "Epoch 55/100\n",
      "2000/2000 [==============================] - 720s 360ms/step - loss: 1.5383\n",
      "Epoch 56/100\n",
      "2000/2000 [==============================] - 720s 360ms/step - loss: 1.5315\n",
      "Epoch 57/100\n",
      "2000/2000 [==============================] - 720s 360ms/step - loss: 1.5262\n",
      "Epoch 58/100\n",
      "2000/2000 [==============================] - 720s 360ms/step - loss: 1.5205\n",
      "Epoch 59/100\n",
      "2000/2000 [==============================] - 720s 360ms/step - loss: 1.5165\n",
      "Epoch 60/100\n",
      "2000/2000 [==============================] - 720s 360ms/step - loss: 1.5181\n",
      "Epoch 61/100\n",
      "2000/2000 [==============================] - 720s 360ms/step - loss: 1.5087\n",
      "Epoch 62/100\n",
      "2000/2000 [==============================] - 720s 360ms/step - loss: 1.5000\n",
      "Epoch 63/100\n",
      "2000/2000 [==============================] - 720s 360ms/step - loss: 1.5034\n",
      "Epoch 64/100\n",
      "2000/2000 [==============================] - 720s 360ms/step - loss: 1.4951\n",
      "Epoch 65/100\n",
      "2000/2000 [==============================] - 720s 360ms/step - loss: 1.4917\n",
      "Epoch 66/100\n",
      "2000/2000 [==============================] - 721s 360ms/step - loss: 1.4896\n",
      "Epoch 67/100\n",
      "2000/2000 [==============================] - 722s 361ms/step - loss: 1.4863\n",
      "Epoch 68/100\n",
      "2000/2000 [==============================] - 723s 361ms/step - loss: 1.4846\n",
      "Epoch 69/100\n",
      "2000/2000 [==============================] - 721s 360ms/step - loss: 1.4779\n",
      "Epoch 70/100\n",
      "2000/2000 [==============================] - 720s 360ms/step - loss: 1.4712\n",
      "Epoch 71/100\n",
      "2000/2000 [==============================] - 721s 360ms/step - loss: 1.4676\n",
      "Epoch 72/100\n",
      "2000/2000 [==============================] - 721s 360ms/step - loss: 1.4715\n",
      "Epoch 73/100\n",
      "2000/2000 [==============================] - 721s 360ms/step - loss: 1.4679\n",
      "Epoch 74/100\n",
      "2000/2000 [==============================] - 720s 360ms/step - loss: 1.4590\n",
      "Epoch 75/100\n",
      "2000/2000 [==============================] - 720s 360ms/step - loss: 1.4579\n",
      "Epoch 76/100\n",
      "2000/2000 [==============================] - 720s 360ms/step - loss: 1.4532\n",
      "Epoch 77/100\n",
      "2000/2000 [==============================] - 721s 360ms/step - loss: 1.4509\n",
      "Epoch 78/100\n",
      "2000/2000 [==============================] - 721s 360ms/step - loss: 1.4498\n",
      "Epoch 79/100\n",
      "2000/2000 [==============================] - 721s 361ms/step - loss: 1.4433\n",
      "Epoch 80/100\n",
      "2000/2000 [==============================] - 732s 366ms/step - loss: 1.4422\n",
      "Epoch 81/100\n",
      "2000/2000 [==============================] - 753s 376ms/step - loss: 1.4435\n",
      "Epoch 82/100\n",
      "2000/2000 [==============================] - 737s 368ms/step - loss: 1.4375\n",
      "Epoch 83/100\n",
      "2000/2000 [==============================] - 731s 366ms/step - loss: 1.4356\n",
      "Epoch 84/100\n",
      "2000/2000 [==============================] - 725s 363ms/step - loss: 1.4302\n",
      "Epoch 85/100\n",
      "2000/2000 [==============================] - 727s 364ms/step - loss: 1.4282\n",
      "Epoch 86/100\n",
      "2000/2000 [==============================] - 770s 385ms/step - loss: 1.4265\n",
      "Epoch 87/100\n",
      "2000/2000 [==============================] - 772s 386ms/step - loss: 1.4300\n",
      "Epoch 88/100\n",
      "2000/2000 [==============================] - 807s 404ms/step - loss: 1.4251\n",
      "Epoch 89/100\n",
      "2000/2000 [==============================] - 761s 380ms/step - loss: 1.4235\n",
      "Epoch 90/100\n"
     ]
    },
    {
     "name": "stdout",
     "output_type": "stream",
     "text": [
      "2000/2000 [==============================] - 723s 362ms/step - loss: 1.4228\n",
      "Epoch 91/100\n",
      "2000/2000 [==============================] - 723s 362ms/step - loss: 1.4182\n",
      "Epoch 92/100\n",
      "2000/2000 [==============================] - 725s 362ms/step - loss: 1.4165\n",
      "Epoch 93/100\n",
      "2000/2000 [==============================] - 740s 370ms/step - loss: 1.4159\n",
      "Epoch 94/100\n",
      "2000/2000 [==============================] - 732s 366ms/step - loss: 1.4091\n",
      "Epoch 95/100\n",
      "2000/2000 [==============================] - 732s 366ms/step - loss: 1.4094\n",
      "Epoch 96/100\n",
      "2000/2000 [==============================] - 732s 366ms/step - loss: 1.4033\n",
      "Epoch 97/100\n",
      "2000/2000 [==============================] - 732s 366ms/step - loss: 1.4042\n",
      "Epoch 98/100\n",
      "2000/2000 [==============================] - 733s 366ms/step - loss: 1.4021\n",
      "Epoch 99/100\n",
      "2000/2000 [==============================] - 740s 370ms/step - loss: 1.4008\n",
      "Epoch 100/100\n",
      " 911/2000 [============>.................] - ETA: 7:03 - loss: 1.4059"
     ]
    }
   ],
   "source": [
    "if config[\"train_model\"]:\n",
    "#     for i in range(epochs):\n",
    "    callback = callbacks.EarlyStopping(monitor='loss',min_delta = 0.001, patience=3)\n",
    "    generator = data_generator(train_descriptions, train_features, wordtoix, max_length, number_pics_per_bath)\n",
    "    model.fit_generator(generator, epochs=epochs, steps_per_epoch=steps, callbacks=[callback], verbose=1)\n",
    "    if config[\"save_model\"]:\n",
    "        writepath = config[\"lstm_model_save_dir\"] + 'model_' + str(i) + '.h5'\n",
    "        mode = 'a' if os.path.exists(writepath) else 'wb'\n",
    "        model.save(writepath)"
   ]
  },
  {
   "cell_type": "code",
   "execution_count": null,
   "metadata": {},
   "outputs": [],
   "source": [
    "# if config[\"train_model\"]:\n",
    "#     #model.optimizer.lr = 0.0001\n",
    "#     epochs = 100\n",
    "#     number_pics_per_bath = 6\n",
    "#     steps = len(train_descriptions)//number_pics_per_bath"
   ]
  },
  {
   "cell_type": "code",
   "execution_count": null,
   "metadata": {},
   "outputs": [],
   "source": [
    "# if config[\"train_model\"]:\n",
    "# #     for i in range(epochs):\n",
    "#     generator = data_generator(train_descriptions, train_features, wordtoix, max_length, number_pics_per_bath)\n",
    "#     model.fit_generator(generator, epochs=epochs, steps_per_epoch=steps, callbacks=[callback], verbose=1)\n",
    "#     #model.save('./model_weights/model_' + str(i) + '.h5')"
   ]
  },
  {
   "cell_type": "code",
   "execution_count": null,
   "metadata": {},
   "outputs": [],
   "source": [
    "#if config[\"save_model\"]:\n",
    "model.save_weights(config[\"lstm_model_save_path\"])\n",
    "model.load_weights(config[\"lstm_model_save_path\"])"
   ]
  },
  {
   "cell_type": "code",
   "execution_count": null,
   "metadata": {},
   "outputs": [],
   "source": [
    "images = config[\"images_path\"]"
   ]
  },
  {
   "cell_type": "code",
   "execution_count": null,
   "metadata": {},
   "outputs": [],
   "source": [
    "with open(config[\"encoded_images_test\"], \"rb\") as encoded_pickle:\n",
    "    encoding_test = load(encoded_pickle)"
   ]
  },
  {
   "cell_type": "code",
   "execution_count": null,
   "metadata": {},
   "outputs": [],
   "source": [
    "def greedySearch(photo):\n",
    "    in_text = 'startseq'\n",
    "    for i in range(max_length):\n",
    "        sequence = [wordtoix[w] for w in in_text.split() if w in wordtoix]\n",
    "        sequence = pad_sequences([sequence], maxlen=max_length)\n",
    "        yhat = model.predict([photo,sequence], verbose=0)\n",
    "        yhat = np.argmax(yhat)\n",
    "        word = ixtoword[yhat]\n",
    "        in_text += ' ' + word\n",
    "        if word == 'endseq':\n",
    "            break\n",
    "    final = in_text.split()\n",
    "    final = final[1:-1]\n",
    "    final = ' '.join(final)\n",
    "    return final"
   ]
  },
  {
   "cell_type": "code",
   "execution_count": null,
   "metadata": {},
   "outputs": [],
   "source": [
    "for i in range(5, 10):\n",
    "    pic = list(encoding_test.keys())[i]\n",
    "    image = encoding_test[pic].reshape((1,2048))\n",
    "    x=plt.imread(images+pic)\n",
    "    plt.imshow(x)\n",
    "    plt.show()\n",
    "    print(\"Greedy:\",greedySearch(image))\n",
    "    print(descriptions[pic[:-4]])"
   ]
  },
  {
   "cell_type": "code",
   "execution_count": null,
   "metadata": {},
   "outputs": [],
   "source": [
    "#### Metrics\n",
    "##### Bag of words = bow\n",
    "\n",
    "def get_bow(description):\n",
    "    bow = description.split(' ')\n",
    "    bow = set(bow)\n",
    "    return bow\n",
    "\n",
    "#calculate bow score\n",
    "def bow_score(bow_train, bow_pred):\n",
    "    overlap = bow_train & bow_pred\n",
    "    universe = bow_train | bow_pred\n",
    "\n",
    "    result1 = float(len(overlap)) / len(bow_train) * 100\n",
    "    result2 = float(len(overlap)) / len(bow_pred) * 100\n",
    "    result3 = float(len(overlap)) / len(universe) * 100\n",
    "    return result1, len(overlap)"
   ]
  },
  {
   "cell_type": "code",
   "execution_count": null,
   "metadata": {},
   "outputs": [],
   "source": [
    "\n",
    "##### Cider\n",
    "#function for calculating cider metric\n",
    "from sklearn.feature_extraction.text import TfidfVectorizer\n",
    "from sklearn.metrics.pairwise import cosine_similarity\n",
    "\n",
    "def cider(given_captions, prediction):\n",
    "    prediction_arr = []\n",
    "    prediction_arr.append(prediction)\n",
    "    vectorizer = TfidfVectorizer()\n",
    "    trainedV = vectorizer.fit(given_captions)\n",
    "    givenTfIdf = trainedV.transform(given_captions).toarray()\n",
    "    predTfIdf = trainedV.transform(prediction_arr).toarray()\n",
    "    partialCiders = 0\n",
    "    help_arr = []\n",
    "    \n",
    "    for c in givenTfIdf:\n",
    "        help_arr.append(c)\n",
    "        partialCiders = partialCiders + cosine_similarity(predTfIdf,help_arr)\n",
    "        help_arr = []\n",
    "        \n",
    "    return partialCiders/len(givenTfIdf)"
   ]
  },
  {
   "cell_type": "code",
   "execution_count": null,
   "metadata": {
    "scrolled": true
   },
   "outputs": [],
   "source": [
    "#### \n",
    "import warnings; warnings.simplefilter('ignore')\n",
    "from IPython.display import clear_output\n",
    "\n",
    "#preparation of metrics lists\n",
    "bleu_train_scores = []\n",
    "meteor_train_scores = []\n",
    "cider_train_scores = []\n",
    "    \n",
    "# for i in range(0,5):\n",
    "#     bleu_train_scores.append([])\n",
    "#     meteor_train_scores.append([])\n",
    "#     cider_train_scores.append([])\n",
    "    \n",
    "train_pics = list(encoding_train.keys())\n",
    "\n",
    "#calculation of metrics for train images dataset\n",
    "for j in range(0,len(train_pics)):\n",
    "    pic = train_pics[j]\n",
    "    image = encoding_train[pic].reshape((1,2048))\n",
    "\n",
    "    actual_desc_0 = descriptions[pic.rsplit( \".\", 1 )[ 0 ]][0]\n",
    "    actual_desc_1 = descriptions[pic.rsplit( \".\", 1 )[ 0 ]][1]\n",
    "    actual_desc_2 = descriptions[pic.rsplit( \".\", 1 )[ 0 ]][2]\n",
    "    actual_desc_3 = descriptions[pic.rsplit( \".\", 1 )[ 0 ]][3]\n",
    "    actual_desc_4 = descriptions[pic.rsplit( \".\", 1 )[ 0 ]][4]\n",
    "\n",
    "    reference = [actual_desc_0.split(),\n",
    "         actual_desc_1.split(),\n",
    "         actual_desc_2.split(),\n",
    "         actual_desc_3.split(),\n",
    "         actual_desc_4.split()]\n",
    "\n",
    "    generated = greedySearch(image)\n",
    "    bleu_train_scores.append(sentence_bleu(reference, generated.split(), weights=(1, 0, 0, 0)))\n",
    "    meteor_train_scores.append(meteor_score(descriptions[pic[:-4]],generated))\n",
    "    cider_train_scores.append(cider(descriptions[pic[:-4]],generated)[0][0])\n",
    "\n",
    "    clear_output(wait=True)\n",
    "    print('train',j,len(train_pics), flush=True)\n",
    "\n"
   ]
  },
  {
   "cell_type": "code",
   "execution_count": null,
   "metadata": {},
   "outputs": [],
   "source": [
    "from numpy import mean\n",
    "\n",
    "result_data = {}\n",
    "\n",
    "#calculate mean score based on socres list for each metric\n",
    "\n",
    "result_data = [\n",
    "    mean(bleu_train_scores),\n",
    "    mean(meteor_train_scores),\n",
    "    mean(cider_train_scores),\n",
    "]\n",
    "\n",
    "print(['Bleu TREN', 'Meteor TREN','CIDEr TREN'])\n",
    "result_data"
   ]
  },
  {
   "cell_type": "code",
   "execution_count": null,
   "metadata": {},
   "outputs": [],
   "source": [
    "from tqdm.notebook import tqdm\n",
    "\n",
    "#preparation of metrics lists\n",
    "bleu_test_scores = []\n",
    "meteor_test_scores = []\n",
    "cider_test_scores = []\n",
    "test_pics = list(encoding_test.keys())\n",
    "\n",
    "#calculation of metrics for test images dataset\n",
    "for j in tqdm(range(0,len(test_pics))):\n",
    "    pic = test_pics[j]\n",
    "    image = encoding_test[pic].reshape((1,2048))\n",
    "\n",
    "    actual_desc_0 = descriptions[pic.rsplit( \".\", 1 )[ 0 ]][0]\n",
    "    actual_desc_1 = descriptions[pic.rsplit( \".\", 1 )[ 0 ]][1]\n",
    "    actual_desc_2 = descriptions[pic.rsplit( \".\", 1 )[ 0 ]][2]\n",
    "    actual_desc_3 = descriptions[pic.rsplit( \".\", 1 )[ 0 ]][3]\n",
    "    actual_desc_4 = descriptions[pic.rsplit( \".\", 1 )[ 0 ]][4]\n",
    "\n",
    "    reference = [actual_desc_0.split(),\n",
    "                 actual_desc_1.split(),\n",
    "                 actual_desc_2.split(),\n",
    "                 actual_desc_3.split(),\n",
    "                 actual_desc_4.split()]\n",
    "\n",
    "    generated = greedySearch(image)\n",
    "\n",
    "    bleu_test_scores.append(sentence_bleu(reference, generated.split(), weights=(1, 0, 0, 0)))\n",
    "    meteor_test_scores.append(meteor_score(descriptions[pic[:-4]],generated))\n",
    "    cider_test_scores.append(cider(descriptions[pic[:-4]],generated)[0][0])\n",
    "\n",
    "    clear_output(wait=True)\n",
    "    print('test', j, len(test_pics), flush=True)\n",
    "\n"
   ]
  },
  {
   "cell_type": "code",
   "execution_count": null,
   "metadata": {},
   "outputs": [],
   "source": [
    "#calculate mean score based on socres list for each metric\n",
    "from numpy import mean\n",
    "\n",
    "result_data = {}\n",
    "\n",
    "# for i in range(0,5):\n",
    "result_data = [\n",
    "    mean(bleu_test_scores),\n",
    "    mean(meteor_test_scores),\n",
    "    mean(cider_test_scores)\n",
    "]\n",
    "\n",
    "print(['Bleu TEST', 'Meteor TEST', 'CIDEr TEST'])\n",
    "result_data"
   ]
  },
  {
   "cell_type": "markdown",
   "metadata": {},
   "source": [
    "Early stopping patience=3, delta = 0.001, bleu weights=(0.25, 0.25, 0.25, 0.25)\n",
    "\n",
    "['Bleu TREN', 'Meteor TREN', 'CIDEr TREN']\n",
    "[0.08826357992794069, 0.3812428392811727, 0.2538227205501579]\n",
    "\n",
    "['Bleu TEST', 'Meteor TEST', 'CIDEr TEST']\n",
    "[0.06709583754955759, 0.35676080070908517, 0.24570790686788618]\n",
    "\n",
    "\n",
    "Early stopping patience=3, delta = 0.001,\n",
    "['Bleu TEST', 'Meteor TEST', 'CIDEr TEST']\n",
    "[0.5314928729248558, 0.35676080070908517, 0.24570790686788618]\n",
    "\n",
    "Decaying learning rate\n",
    "['Bleu TREN', 'Meteor TREN', 'CIDEr TREN']\n",
    "[0.5389221988318406, 0.36500372248553375, 0.246789750564132]\n",
    "['Bleu TEST', 'Meteor TEST', 'CIDEr TEST']\n",
    "[0.5099813205752186, 0.3409624319787307, 0.23597343552878425]\n",
    "\n",
    "Przy overfittingu wygenerowane zdania są dłuższe/bardziej złożone, lecz mniej wiernie opisują obrazek. Np.:\n",
    "reedy: a man in a black shirt is sitting on a bench in front of a brick building\n",
    "['a japanese swordsman jumps into the air', 'a man in a blue outfit is swinging a sword in the air', 'an actor dressed as a pirate performs in an outdoor park', 'a person wearing a blue robe is in the air holding a sword', 'man in martial artsstyle costume jumping in midair']\n",
    "\n",
    "Na obrazku nie było ani ławki ani budynku.\n",
    "\n",
    "### Deep Stacked LSTM + decaying learning rate\n"
   ]
  },
  {
   "cell_type": "code",
   "execution_count": null,
   "metadata": {},
   "outputs": [],
   "source": []
  }
 ],
 "metadata": {
  "kernelspec": {
   "display_name": "Python 3",
   "language": "python",
   "name": "python3"
  },
  "language_info": {
   "codemirror_mode": {
    "name": "ipython",
    "version": 3
   },
   "file_extension": ".py",
   "mimetype": "text/x-python",
   "name": "python",
   "nbconvert_exporter": "python",
   "pygments_lexer": "ipython3",
   "version": "3.8.8"
  }
 },
 "nbformat": 4,
 "nbformat_minor": 2
}
